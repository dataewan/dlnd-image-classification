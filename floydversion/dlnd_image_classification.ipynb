{
 "cells": [
  {
   "cell_type": "markdown",
   "metadata": {
    "collapsed": true,
    "deletable": true,
    "editable": true
   },
   "source": [
    "# Image Classification\n",
    "In this project, you'll classify images from the [CIFAR-10 dataset](https://www.cs.toronto.edu/~kriz/cifar.html).  The dataset consists of airplanes, dogs, cats, and other objects. You'll preprocess the images, then train a convolutional neural network on all the samples. The images need to be normalized and the labels need to be one-hot encoded.  You'll get to apply what you learned and build a convolutional, max pooling, dropout, and fully connected layers.  At the end, you'll get to see your neural network's predictions on the sample images.\n",
    "## Get the Data\n",
    "Run the following cell to download the [CIFAR-10 dataset for python](https://www.cs.toronto.edu/~kriz/cifar-10-python.tar.gz)."
   ]
  },
  {
   "cell_type": "code",
   "execution_count": 1,
   "metadata": {
    "collapsed": false,
    "deletable": true,
    "editable": true
   },
   "outputs": [
    {
     "name": "stderr",
     "output_type": "stream",
     "text": [
      "CIFAR-10 Dataset: 171MB [02:05, 1.36MB/s]                              \n"
     ]
    },
    {
     "name": "stdout",
     "output_type": "stream",
     "text": [
      "All files found!\n"
     ]
    }
   ],
   "source": [
    "\"\"\"\n",
    "DON'T MODIFY ANYTHING IN THIS CELL THAT IS BELOW THIS LINE\n",
    "\"\"\"\n",
    "from urllib.request import urlretrieve\n",
    "from os.path import isfile, isdir\n",
    "from tqdm import tqdm\n",
    "import problem_unittests as tests\n",
    "import tarfile\n",
    "\n",
    "cifar10_dataset_folder_path = 'cifar-10-batches-py'\n",
    "\n",
    "# Use Floyd's cifar-10 dataset if present\n",
    "floyd_cifar10_location = '/input/cifar-10/python.tar.gz'\n",
    "if isfile(floyd_cifar10_location):\n",
    "    tar_gz_path = floyd_cifar10_location\n",
    "else:\n",
    "    tar_gz_path = 'cifar-10-python.tar.gz'\n",
    "\n",
    "class DLProgress(tqdm):\n",
    "    last_block = 0\n",
    "\n",
    "    def hook(self, block_num=1, block_size=1, total_size=None):\n",
    "        self.total = total_size\n",
    "        self.update((block_num - self.last_block) * block_size)\n",
    "        self.last_block = block_num\n",
    "\n",
    "if not isfile('cifar-10-python.tar.gz'):\n",
    "    with DLProgress(unit='B', unit_scale=True, miniters=1, desc='CIFAR-10 Dataset') as pbar:\n",
    "        urlretrieve(\n",
    "            'https://www.cs.toronto.edu/~kriz/cifar-10-python.tar.gz',\n",
    "            'cifar-10-python.tar.gz',\n",
    "            pbar.hook)\n",
    "\n",
    "if not isdir(cifar10_dataset_folder_path):\n",
    "    with tarfile.open('cifar-10-python.tar.gz') as tar:\n",
    "        tar.extractall()\n",
    "        tar.close()\n",
    "\n",
    "\n",
    "tests.test_folder_path(cifar10_dataset_folder_path)"
   ]
  },
  {
   "cell_type": "markdown",
   "metadata": {
    "deletable": true,
    "editable": true
   },
   "source": [
    "## Explore the Data\n",
    "The dataset is broken into batches to prevent your machine from running out of memory.  The CIFAR-10 dataset consists of 5 batches, named `data_batch_1`, `data_batch_2`, etc.. Each batch contains the labels and images that are one of the following:\n",
    "* airplane\n",
    "* automobile\n",
    "* bird\n",
    "* cat\n",
    "* deer\n",
    "* dog\n",
    "* frog\n",
    "* horse\n",
    "* ship\n",
    "* truck\n",
    "\n",
    "Understanding a dataset is part of making predictions on the data.  Play around with the code cell below by changing the `batch_id` and `sample_id`. The `batch_id` is the id for a batch (1-5). The `sample_id` is the id for a image and label pair in the batch.\n",
    "\n",
    "Ask yourself \"What are all possible labels?\", \"What is the range of values for the image data?\", \"Are the labels in order or random?\".  Answers to questions like these will help you preprocess the data and end up with better predictions."
   ]
  },
  {
   "cell_type": "code",
   "execution_count": 2,
   "metadata": {
    "collapsed": false,
    "deletable": true,
    "editable": true
   },
   "outputs": [
    {
     "name": "stdout",
     "output_type": "stream",
     "text": [
      "\n",
      "Stats of batch 2:\n",
      "Samples: 10000\n",
      "Label Counts: {0: 984, 1: 1007, 2: 1010, 3: 995, 4: 1010, 5: 988, 6: 1008, 7: 1026, 8: 987, 9: 985}\n",
      "First 20 Labels: [1, 6, 6, 8, 8, 3, 4, 6, 0, 6, 0, 3, 6, 6, 5, 4, 8, 3, 2, 6]\n",
      "\n",
      "Example of Image 4:\n",
      "Image - Min Value: 0 Max Value: 255\n",
      "Image - Shape: (32, 32, 3)\n",
      "Label - Label Id: 8 Name: ship\n"
     ]
    },
    {
     "data": {
      "image/png": "[encoded data removed]",
      "text/plain": [
       "<matplotlib.figure.Figure at 0x7fabebc9a9b0>"
      ]
     },
     "metadata": {
      "image/png": {
       "height": 250,
       "width": 253
      }
     },
     "output_type": "display_data"
    }
   ],
   "source": [
    "%matplotlib inline\n",
    "%config InlineBackend.figure_format = 'retina'\n",
    "\n",
    "import helper\n",
    "import numpy as np\n",
    "\n",
    "# Explore the dataset\n",
    "batch_id = 2\n",
    "sample_id = 4\n",
    "helper.display_stats(cifar10_dataset_folder_path, batch_id, sample_id)"
   ]
  },
  {
   "cell_type": "markdown",
   "metadata": {
    "deletable": true,
    "editable": true
   },
   "source": [
    "## Implement Preprocess Functions\n",
    "### Normalize\n",
    "In the cell below, implement the `normalize` function to take in image data, `x`, and return it as a normalized Numpy array. The values should be in the range of 0 to 1, inclusive.  The return object should be the same shape as `x`."
   ]
  },
  {
   "cell_type": "code",
   "execution_count": 3,
   "metadata": {
    "collapsed": false,
    "deletable": true,
    "editable": true
   },
   "outputs": [
    {
     "name": "stdout",
     "output_type": "stream",
     "text": [
      "Tests Passed\n"
     ]
    }
   ],
   "source": [
    "def normalize(x):\n",
    "    \"\"\"\n",
    "    Normalize a list of sample image data in the range of 0 to 1\n",
    "    : x: List of image data.  The image shape is (32, 32, 3)\n",
    "    : return: Numpy array of normalize data\n",
    "    \"\"\"\n",
    "    # TODO: Implement Function\n",
    "    maxx = np.max(x)\n",
    "    return(np.array(x/maxx))\n",
    "\n",
    "\n",
    "\"\"\"\n",
    "DON'T MODIFY ANYTHING IN THIS CELL THAT IS BELOW THIS LINE\n",
    "\"\"\"\n",
    "tests.test_normalize(normalize)"
   ]
  },
  {
   "cell_type": "markdown",
   "metadata": {
    "deletable": true,
    "editable": true
   },
   "source": [
    "### One-hot encode\n",
    "Just like the previous code cell, you'll be implementing a function for preprocessing.  This time, you'll implement the `one_hot_encode` function. The input, `x`, are a list of labels.  Implement the function to return the list of labels as One-Hot encoded Numpy array.  The possible values for labels are 0 to 9. The one-hot encoding function should return the same encoding for each value between each call to `one_hot_encode`.  Make sure to save the map of encodings outside the function.\n",
    "\n",
    "Hint: Don't reinvent the wheel."
   ]
  },
  {
   "cell_type": "code",
   "execution_count": 4,
   "metadata": {
    "collapsed": false,
    "deletable": true,
    "editable": true
   },
   "outputs": [
    {
     "name": "stdout",
     "output_type": "stream",
     "text": [
      "Tests Passed\n"
     ]
    }
   ],
   "source": [
    "onehotlookup = {}\n",
    "for i in range(10):\n",
    "    vec = np.zeros(10)\n",
    "    vec[i] = 1\n",
    "    onehotlookup[i] = vec\n",
    "\n",
    "def one_hot_encode(x):\n",
    "    \"\"\"\n",
    "    One hot encode a list of sample labels. Return a one-hot encoded vector for each label.\n",
    "    : x: List of sample Labels\n",
    "    : return: Numpy array of one-hot encoded labels\n",
    "    \"\"\"\n",
    "    output = []\n",
    "    for i in x:\n",
    "        output.append(onehotlookup[i])\n",
    "    return np.array(output)\n",
    "\n",
    "\"\"\"\n",
    "DON'T MODIFY ANYTHING IN THIS CELL THAT IS BELOW THIS LINE\n",
    "\"\"\"\n",
    "tests.test_one_hot_encode(one_hot_encode)"
   ]
  },
  {
   "cell_type": "markdown",
   "metadata": {
    "deletable": true,
    "editable": true
   },
   "source": [
    "### Randomize Data\n",
    "As you saw from exploring the data above, the order of the samples are randomized.  It doesn't hurt to randomize it again, but you don't need to for this dataset."
   ]
  },
  {
   "cell_type": "markdown",
   "metadata": {
    "deletable": true,
    "editable": true
   },
   "source": [
    "## Preprocess all the data and save it\n",
    "Running the code cell below will preprocess all the CIFAR-10 data and save it to file. The code below also uses 10% of the training data for validation."
   ]
  },
  {
   "cell_type": "code",
   "execution_count": 5,
   "metadata": {
    "collapsed": false,
    "deletable": true,
    "editable": true
   },
   "outputs": [],
   "source": [
    "\"\"\"\n",
    "DON'T MODIFY ANYTHING IN THIS CELL\n",
    "\"\"\"\n",
    "# Preprocess Training, Validation, and Testing Data\n",
    "helper.preprocess_and_save_data(cifar10_dataset_folder_path, normalize, one_hot_encode)"
   ]
  },
  {
   "cell_type": "markdown",
   "metadata": {
    "deletable": true,
    "editable": true
   },
   "source": [
    "# Check Point\n",
    "This is your first checkpoint.  If you ever decide to come back to this notebook or have to restart the notebook, you can start from here.  The preprocessed data has been saved to disk."
   ]
  },
  {
   "cell_type": "code",
   "execution_count": 6,
   "metadata": {
    "collapsed": true,
    "deletable": true,
    "editable": true
   },
   "outputs": [],
   "source": [
    "\"\"\"\n",
    "DON'T MODIFY ANYTHING IN THIS CELL\n",
    "\"\"\"\n",
    "import pickle\n",
    "import problem_unittests as tests\n",
    "import helper\n",
    "\n",
    "# Load the Preprocessed Validation data\n",
    "valid_features, valid_labels = pickle.load(open('preprocess_validation.p', mode='rb'))"
   ]
  },
  {
   "cell_type": "markdown",
   "metadata": {
    "deletable": true,
    "editable": true
   },
   "source": [
    "## Build the network\n",
    "For the neural network, you'll build each layer into a function.  Most of the code you've seen has been outside of functions. To test your code more thoroughly, we require that you put each layer in a function.  This allows us to give you better feedback and test for simple mistakes using our unittests before you submit your project.\n",
    "\n",
    "If you're finding it hard to dedicate enough time for this course a week, we've provided a small shortcut to this part of the project. In the next couple of problems, you'll have the option to use [TensorFlow Layers](https://www.tensorflow.org/api_docs/python/tf/layers) or [TensorFlow Layers (contrib)](https://www.tensorflow.org/api_guides/python/contrib.layers) to build each layer, except \"Convolutional & Max Pooling\" layer.  TF Layers is similar to Keras's and TFLearn's abstraction to layers, so it's easy to pickup.\n",
    "\n",
    "If you would like to get the most of this course, try to solve all the problems without TF Layers.  Let's begin!\n",
    "### Input\n",
    "The neural network needs to read the image data, one-hot encoded labels, and dropout keep probability. Implement the following functions\n",
    "* Implement `neural_net_image_input`\n",
    " * Return a [TF Placeholder](https://www.tensorflow.org/api_docs/python/tf/placeholder)\n",
    " * Set the shape using `image_shape` with batch size set to `None`.\n",
    " * Name the TensorFlow placeholder \"x\" using the TensorFlow `name` parameter in the [TF Placeholder](https://www.tensorflow.org/api_docs/python/tf/placeholder).\n",
    "* Implement `neural_net_label_input`\n",
    " * Return a [TF Placeholder](https://www.tensorflow.org/api_docs/python/tf/placeholder)\n",
    " * Set the shape using `n_classes` with batch size set to `None`.\n",
    " * Name the TensorFlow placeholder \"y\" using the TensorFlow `name` parameter in the [TF Placeholder](https://www.tensorflow.org/api_docs/python/tf/placeholder).\n",
    "* Implement `neural_net_keep_prob_input`\n",
    " * Return a [TF Placeholder](https://www.tensorflow.org/api_docs/python/tf/placeholder) for dropout keep probability.\n",
    " * Name the TensorFlow placeholder \"keep_prob\" using the TensorFlow `name` parameter in the [TF Placeholder](https://www.tensorflow.org/api_docs/python/tf/placeholder).\n",
    "\n",
    "These names will be used at the end of the project to load your saved model.\n",
    "\n",
    "Note: `None` for shapes in TensorFlow allow for a dynamic size."
   ]
  },
  {
   "cell_type": "code",
   "execution_count": 7,
   "metadata": {
    "collapsed": false,
    "deletable": true,
    "editable": true
   },
   "outputs": [
    {
     "name": "stdout",
     "output_type": "stream",
     "text": [
      "Image Input Tests Passed.\n",
      "Label Input Tests Passed.\n",
      "Keep Prob Tests Passed.\n"
     ]
    }
   ],
   "source": [
    "import tensorflow as tf\n",
    "\n",
    "def neural_net_image_input(image_shape):\n",
    "    \"\"\"\n",
    "    Return a Tensor for a bach of image input\n",
    "    : image_shape: Shape of the images\n",
    "    : return: Tensor for image input.\n",
    "    \"\"\"\n",
    "    # TODO: Implement Function\n",
    "    shape = (None, *image_shape)\n",
    "    return tf.placeholder(tf.float32, shape = shape, name = 'x')\n",
    "\n",
    "\n",
    "def neural_net_label_input(n_classes):\n",
    "    \"\"\"\n",
    "    Return a Tensor for a batch of label input\n",
    "    : n_classes: Number of classes\n",
    "    : return: Tensor for label input.\n",
    "    \"\"\"\n",
    "    # TODO: Implement Function\n",
    "    shape = (None, n_classes)\n",
    "    return tf.placeholder(tf.float32, shape = shape, name = 'y')\n",
    "\n",
    "\n",
    "def neural_net_keep_prob_input():\n",
    "    \"\"\"\n",
    "    Return a Tensor for keep probability\n",
    "    : return: Tensor for keep probability.\n",
    "    \"\"\"\n",
    "    # TODO: Implement Function\n",
    "    return tf.placeholder(tf.float32, name='keep_prob')\n",
    "\n",
    "\n",
    "\"\"\"\n",
    "DON'T MODIFY ANYTHING IN THIS CELL THAT IS BELOW THIS LINE\n",
    "\"\"\"\n",
    "tf.reset_default_graph()\n",
    "tests.test_nn_image_inputs(neural_net_image_input)\n",
    "tests.test_nn_label_inputs(neural_net_label_input)\n",
    "tests.test_nn_keep_prob_inputs(neural_net_keep_prob_input)"
   ]
  },
  {
   "cell_type": "markdown",
   "metadata": {
    "deletable": true,
    "editable": true
   },
   "source": [
    "### Convolution and Max Pooling Layer\n",
    "Convolution layers have a lot of success with images. For this code cell, you should implement the function `conv2d_maxpool` to apply convolution then max pooling:\n",
    "* Create the weight and bias using `conv_ksize`, `conv_num_outputs` and the shape of `x_tensor`.\n",
    "* Apply a convolution to `x_tensor` using weight and `conv_strides`.\n",
    " * We recommend you use same padding, but you're welcome to use any padding.\n",
    "* Add bias\n",
    "* Add a nonlinear activation to the convolution.\n",
    "* Apply Max Pooling using `pool_ksize` and `pool_strides`.\n",
    " * We recommend you use same padding, but you're welcome to use any padding.\n",
    "\n",
    "Note: You **can't** use [TensorFlow Layers](https://www.tensorflow.org/api_docs/python/tf/layers) or [TensorFlow Layers (contrib)](https://www.tensorflow.org/api_guides/python/contrib.layers) for this layer.  You're free to use any TensorFlow package for all the other layers."
   ]
  },
  {
   "cell_type": "code",
   "execution_count": 8,
   "metadata": {
    "collapsed": false,
    "deletable": true,
    "editable": true
   },
   "outputs": [
    {
     "data": {
      "text/plain": [
       "'1.0.0'"
      ]
     },
     "execution_count": 8,
     "metadata": {},
     "output_type": "execute_result"
    }
   ],
   "source": [
    "tf.__version__"
   ]
  },
  {
   "cell_type": "code",
   "execution_count": 9,
   "metadata": {
    "collapsed": false,
    "deletable": true,
    "editable": true
   },
   "outputs": [
    {
     "name": "stdout",
     "output_type": "stream",
     "text": [
      "Tests Passed\n"
     ]
    }
   ],
   "source": [
    "def conv2d_maxpool(x_tensor, conv_num_outputs, conv_ksize, conv_strides, pool_ksize, pool_strides):\n",
    "    \"\"\"\n",
    "    Apply convolution then max pooling to x_tensor\n",
    "    :param x_tensor: TensorFlow Tensor\n",
    "    :param conv_num_outputs: Number of outputs for the convolutional layer\n",
    "    :param conv_strides: Stride 2-D Tuple for convolution\n",
    "    :param pool_ksize: kernal size 2-D Tuple for pool\n",
    "    :param pool_strides: Stride 2-D Tuple for pool\n",
    "    : return: A tensor that represents convolution and max pooling of x_tensor\n",
    "    \"\"\"\n",
    "    # create weight and bias\n",
    "    # The shape of the filter weight is (height, width, input_depth, output_depth)\n",
    "    # The shape of the filter bias is (output_depth,)\n",
    "    input_shape = x_tensor.shape\n",
    "    weight_shape = (*conv_ksize, int(input_shape[3]), conv_num_outputs)\n",
    "    weights = tf.Variable(tf.truncated_normal(weight_shape, mean=0.0, stddev=0.1))\n",
    "    bias = tf.Variable(tf.zeros(conv_num_outputs))\n",
    "\n",
    "    # apply conv2d and add bias    \n",
    "    # need to pad strides with 1\n",
    "    strides = ((1, *conv_strides, 1))\n",
    "    cov = tf.nn.conv2d(x_tensor, weights, strides, padding='SAME') + bias\n",
    "\n",
    "    # nonlinear activation\n",
    "    cov = tf.nn.relu(cov)\n",
    "    \n",
    "    # apply maxpooling\n",
    "    # TODO: Set the ksize (filter size) for each dimension (batch_size, height, width, depth)\n",
    "    ksize = (1, *conv_ksize, 1)\n",
    "    # TODO: Set the stride for each dimension (batch_size, height, width, depth)\n",
    "    stride = (1, *pool_strides, 1)\n",
    "    # TODO: set the padding, either 'VALID' or 'SAME'.\n",
    "    padding = 'SAME'\n",
    "    cov = tf.nn.max_pool(cov, ksize, stride, padding)\n",
    "    \n",
    "    return cov\n",
    "\n",
    "\"\"\"\n",
    "DON'T MODIFY ANYTHING IN THIS CELL THAT IS BELOW THIS LINE\n",
    "\"\"\"\n",
    "tests.test_con_pool(conv2d_maxpool)"
   ]
  },
  {
   "cell_type": "markdown",
   "metadata": {
    "deletable": true,
    "editable": true
   },
   "source": [
    "### Flatten Layer\n",
    "Implement the `flatten` function to change the dimension of `x_tensor` from a 4-D tensor to a 2-D tensor.  The output should be the shape (*Batch Size*, *Flattened Image Size*). You can use [TensorFlow Layers](https://www.tensorflow.org/api_docs/python/tf/layers) or [TensorFlow Layers (contrib)](https://www.tensorflow.org/api_guides/python/contrib.layers) for this layer."
   ]
  },
  {
   "cell_type": "code",
   "execution_count": 10,
   "metadata": {
    "collapsed": false,
    "deletable": true,
    "editable": true
   },
   "outputs": [
    {
     "name": "stdout",
     "output_type": "stream",
     "text": [
      "Tests Passed\n"
     ]
    }
   ],
   "source": [
    "def flatten(x_tensor):\n",
    "    \"\"\"\n",
    "    Flatten x_tensor to (Batch Size, Flattened Image Size)\n",
    "    : x_tensor: A tensor of size (Batch Size, ...), where ... are the image dimensions.\n",
    "    : return: A tensor of size (Batch Size, Flattened Image Size).\n",
    "    \"\"\"\n",
    "    # TODO: Implement Function\n",
    "    return tf.contrib.layers.flatten(x_tensor)\n",
    "\n",
    "\n",
    "\"\"\"\n",
    "DON'T MODIFY ANYTHING IN THIS CELL THAT IS BELOW THIS LINE\n",
    "\"\"\"\n",
    "tests.test_flatten(flatten)"
   ]
  },
  {
   "cell_type": "markdown",
   "metadata": {
    "deletable": true,
    "editable": true
   },
   "source": [
    "### Fully-Connected Layer\n",
    "Implement the `fully_conn` function to apply a fully connected layer to `x_tensor` with the shape (*Batch Size*, *num_outputs*). You can use [TensorFlow Layers](https://www.tensorflow.org/api_docs/python/tf/layers) or [TensorFlow Layers (contrib)](https://www.tensorflow.org/api_guides/python/contrib.layers) for this layer."
   ]
  },
  {
   "cell_type": "code",
   "execution_count": 11,
   "metadata": {
    "collapsed": false,
    "deletable": true,
    "editable": true
   },
   "outputs": [
    {
     "name": "stdout",
     "output_type": "stream",
     "text": [
      "Tests Passed\n"
     ]
    }
   ],
   "source": [
    "def fully_conn(x_tensor, num_outputs):\n",
    "    \"\"\"\n",
    "    Apply a fully connected layer to x_tensor using weight and bias\n",
    "    : x_tensor: A 2-D tensor where the first dimension is batch size.\n",
    "    : num_outputs: The number of output that the new tensor should be.\n",
    "    : return: A 2-D tensor where the second dimension is num_outputs.\n",
    "    \"\"\"\n",
    "    # TODO: Implement Function\n",
    "    return tf.contrib.layers.fully_connected(x_tensor, num_outputs, activation_fn=tf.nn.relu)\n",
    "\n",
    "\n",
    "\"\"\"\n",
    "DON'T MODIFY ANYTHING IN THIS CELL THAT IS BELOW THIS LINE\n",
    "\"\"\"\n",
    "tests.test_fully_conn(fully_conn)"
   ]
  },
  {
   "cell_type": "markdown",
   "metadata": {
    "deletable": true,
    "editable": true
   },
   "source": [
    "### Output Layer\n",
    "Implement the `output` function to apply a fully connected layer to `x_tensor` with the shape (*Batch Size*, *num_outputs*). You can use [TensorFlow Layers](https://www.tensorflow.org/api_docs/python/tf/layers) or [TensorFlow Layers (contrib)](https://www.tensorflow.org/api_guides/python/contrib.layers) for this layer.\n",
    "\n",
    "Note: Activation, softmax, or cross entropy shouldn't be applied to this."
   ]
  },
  {
   "cell_type": "code",
   "execution_count": 12,
   "metadata": {
    "collapsed": false,
    "deletable": true,
    "editable": true
   },
   "outputs": [
    {
     "name": "stdout",
     "output_type": "stream",
     "text": [
      "Tests Passed\n"
     ]
    }
   ],
   "source": [
    "def output(x_tensor, num_outputs):\n",
    "    \"\"\"\n",
    "    Apply a output layer to x_tensor using weight and bias\n",
    "    : x_tensor: A 2-D tensor where the first dimension is batch size.\n",
    "    : num_outputs: The number of output that the new tensor should be.\n",
    "    : return: A 2-D tensor where the second dimension is num_outputs.\n",
    "    \"\"\"\n",
    "    # TODO: Implement Function\n",
    "    return tf.contrib.layers.fully_connected(inputs=x_tensor, num_outputs=num_outputs, activation_fn=None)\n",
    "\n",
    "\n",
    "\"\"\"\n",
    "DON'T MODIFY ANYTHING IN THIS CELL THAT IS BELOW THIS LINE\n",
    "\"\"\"\n",
    "tests.test_output(output)"
   ]
  },
  {
   "cell_type": "markdown",
   "metadata": {
    "deletable": true,
    "editable": true
   },
   "source": [
    "### Create Convolutional Model\n",
    "Implement the function `conv_net` to create a convolutional neural network model. The function takes in a batch of images, `x`, and outputs logits.  Use the layers you created above to create this model:\n",
    "\n",
    "* Apply 1, 2, or 3 Convolution and Max Pool layers\n",
    "* Apply a Flatten Layer\n",
    "* Apply 1, 2, or 3 Fully Connected Layers\n",
    "* Apply an Output Layer\n",
    "* Return the output\n",
    "* Apply [TensorFlow's Dropout](https://www.tensorflow.org/api_docs/python/tf/nn/dropout) to one or more layers in the model using `keep_prob`. "
   ]
  },
  {
   "cell_type": "code",
   "execution_count": 13,
   "metadata": {
    "collapsed": false,
    "deletable": true,
    "editable": true
   },
   "outputs": [
    {
     "name": "stdout",
     "output_type": "stream",
     "text": [
      "Neural Network Built!\n"
     ]
    }
   ],
   "source": [
    "def conv_net(x, keep_prob):\n",
    "    \"\"\"\n",
    "    Create a convolutional neural network model\n",
    "    : x: Placeholder tensor that holds image data.\n",
    "    : keep_prob: Placeholder tensor that hold dropout keep probability.\n",
    "    : return: Tensor that represents logits\n",
    "    \"\"\"\n",
    "    # TODO: Apply 1, 2, or 3 Convolution and Max Pool layers\n",
    "    #    Play around with different number of outputs, kernel size and stride\n",
    "    # Function Definition from Above:\n",
    "    #    conv2d_maxpool(x_tensor, conv_num_outputs, conv_ksize, conv_strides, pool_ksize, pool_strides)\n",
    "    # #outputs = 32; ksize=3; strides=1; maxpool=2\n",
    "    x = conv2d_maxpool(x, 32, (3, 3), (1, 1), (2, 2), (2, 2))\n",
    "    # #outputs = 32; ksize=3; strides=2; maxpool=2\n",
    "    x = conv2d_maxpool(x, 32, (3, 3), (2, 2), (2, 2), (2, 2))\n",
    "    \n",
    "    # TODO: Apply a Flatten Layer\n",
    "    # Function Definition from Above:\n",
    "    #   flatten(x_tensor)\n",
    "    x = flatten(x)\n",
    "    \n",
    "\n",
    "    # TODO: Apply 1, 2, or 3 Fully Connected Layers\n",
    "    #    Play around with different number of outputs\n",
    "    # Function Definition from Above:\n",
    "    #   fully_conn(x_tensor, num_outputs)\n",
    "    x = fully_conn(x, 512)\n",
    "    x = tf.nn.dropout(x, keep_prob)\n",
    "    x = fully_conn(x, 256)\n",
    "    x = tf.nn.dropout(x, keep_prob)\n",
    "    \n",
    "    # TODO: Apply an Output Layer\n",
    "    #    Set this to the number of classes\n",
    "    # Function Definition from Above:\n",
    "    #   output(x_tensor, num_outputs)\n",
    "    x = output(x, 10)\n",
    "    \n",
    "    # TODO: return output\n",
    "    return x\n",
    "\n",
    "\n",
    "\"\"\"\n",
    "DON'T MODIFY ANYTHING IN THIS CELL THAT IS BELOW THIS LINE\n",
    "\"\"\"\n",
    "\n",
    "##############################\n",
    "## Build the Neural Network ##\n",
    "##############################\n",
    "\n",
    "# Remove previous weights, bias, inputs, etc..\n",
    "tf.reset_default_graph()\n",
    "\n",
    "# Inputs\n",
    "x = neural_net_image_input((32, 32, 3))\n",
    "y = neural_net_label_input(10)\n",
    "keep_prob = neural_net_keep_prob_input()\n",
    "\n",
    "# Model\n",
    "logits = conv_net(x, keep_prob)\n",
    "\n",
    "# Name logits Tensor, so that is can be loaded from disk after training\n",
    "logits = tf.identity(logits, name='logits')\n",
    "\n",
    "# Loss and Optimizer\n",
    "cost = tf.reduce_mean(tf.nn.softmax_cross_entropy_with_logits(logits=logits, labels=y))\n",
    "optimizer = tf.train.AdamOptimizer().minimize(cost)\n",
    "\n",
    "# Accuracy\n",
    "correct_pred = tf.equal(tf.argmax(logits, 1), tf.argmax(y, 1))\n",
    "accuracy = tf.reduce_mean(tf.cast(correct_pred, tf.float32), name='accuracy')\n",
    "\n",
    "tests.test_conv_net(conv_net)"
   ]
  },
  {
   "cell_type": "markdown",
   "metadata": {
    "deletable": true,
    "editable": true
   },
   "source": [
    "## Train the Neural Network\n",
    "### Single Optimization\n",
    "Implement the function `train_neural_network` to do a single optimization.  The optimization should use `optimizer` to optimize in `session` with a `feed_dict` of the following:\n",
    "* `x` for image input\n",
    "* `y` for labels\n",
    "* `keep_prob` for keep probability for dropout\n",
    "\n",
    "This function will be called for each batch, so `tf.global_variables_initializer()` has already been called.\n",
    "\n",
    "Note: Nothing needs to be returned. This function is only optimizing the neural network."
   ]
  },
  {
   "cell_type": "code",
   "execution_count": 14,
   "metadata": {
    "collapsed": false,
    "deletable": true,
    "editable": true
   },
   "outputs": [
    {
     "name": "stdout",
     "output_type": "stream",
     "text": [
      "Tests Passed\n"
     ]
    }
   ],
   "source": [
    "def train_neural_network(session, optimizer, keep_probability, feature_batch, label_batch):\n",
    "    \"\"\"\n",
    "    Optimize the session on a batch of images and labels\n",
    "    : session: Current TensorFlow session\n",
    "    : optimizer: TensorFlow optimizer function\n",
    "    : keep_probability: keep probability\n",
    "    : feature_batch: Batch of Numpy image data\n",
    "    : label_batch: Batch of Numpy label data\n",
    "    \"\"\"\n",
    "    # TODO: Implement Function\n",
    "    session.run(optimizer, feed_dict={\n",
    "        x: feature_batch,\n",
    "        y: label_batch,\n",
    "        keep_prob: keep_probability\n",
    "    })\n",
    "\n",
    "\n",
    "\"\"\"\n",
    "DON'T MODIFY ANYTHING IN THIS CELL THAT IS BELOW THIS LINE\n",
    "\"\"\"\n",
    "tests.test_train_nn(train_neural_network)"
   ]
  },
  {
   "cell_type": "markdown",
   "metadata": {
    "deletable": true,
    "editable": true
   },
   "source": [
    "### Show Stats\n",
    "Implement the function `print_stats` to print loss and validation accuracy.  Use the global variables `valid_features` and `valid_labels` to calculate validation accuracy.  Use a keep probability of `1.0` to calculate the loss and validation accuracy."
   ]
  },
  {
   "cell_type": "code",
   "execution_count": 15,
   "metadata": {
    "collapsed": false,
    "deletable": true,
    "editable": true
   },
   "outputs": [],
   "source": [
    "def print_stats(session, feature_batch, label_batch, cost, accuracy):\n",
    "    \"\"\"\n",
    "    Print information about loss and validation accuracy\n",
    "    : session: Current TensorFlow session\n",
    "    : feature_batch: Batch of Numpy image data\n",
    "    : label_batch: Batch of Numpy label data\n",
    "    : cost: TensorFlow cost function\n",
    "    : accuracy: TensorFlow accuracy function\n",
    "    \"\"\"\n",
    "    # TODO: Implement Function\n",
    "    loss = session.run(cost, feed_dict={\n",
    "        x: feature_batch,\n",
    "        y: label_batch,\n",
    "        keep_prob: 1.\n",
    "    })\n",
    "    \n",
    "    valid_accuracy = session.run(accuracy, feed_dict={\n",
    "        x: valid_features,\n",
    "        y: valid_labels,\n",
    "        keep_prob: 1.\n",
    "    })\n",
    "    \n",
    "    print('Loss: {:>10.4f} Validation Accuracy: {:.6f}'.format(loss, valid_accuracy))\n"
   ]
  },
  {
   "cell_type": "markdown",
   "metadata": {
    "deletable": true,
    "editable": true
   },
   "source": [
    "### Hyperparameters\n",
    "Tune the following parameters:\n",
    "* Set `epochs` to the number of iterations until the network stops learning or start overfitting\n",
    "* Set `batch_size` to the highest number that your machine has memory for.  Most people set them to common sizes of memory:\n",
    " * 64\n",
    " * 128\n",
    " * 256\n",
    " * ...\n",
    "* Set `keep_probability` to the probability of keeping a node using dropout"
   ]
  },
  {
   "cell_type": "code",
   "execution_count": 16,
   "metadata": {
    "collapsed": true,
    "deletable": true,
    "editable": true
   },
   "outputs": [],
   "source": [
    "# TODO: Tune Parameters\n",
    "\n",
    "epochs = 40\n",
    "batch_size = 256\n",
    "keep_probability = 0.5"
   ]
  },
  {
   "cell_type": "markdown",
   "metadata": {
    "deletable": true,
    "editable": true
   },
   "source": [
    "### Train on a Single CIFAR-10 Batch\n",
    "Instead of training the neural network on all the CIFAR-10 batches of data, let's use a single batch. This should save time while you iterate on the model to get a better accuracy.  Once the final validation accuracy is 50% or greater, run the model on all the data in the next section."
   ]
  },
  {
   "cell_type": "code",
   "execution_count": 17,
   "metadata": {
    "collapsed": false,
    "deletable": true,
    "editable": true
   },
   "outputs": [
    {
     "name": "stdout",
     "output_type": "stream",
     "text": [
      "Checking the Training on a Single Batch...\n",
      "Epoch  1, CIFAR-10 Batch 1:  Loss:     2.1252 Validation Accuracy: 0.310200\n",
      "Epoch  2, CIFAR-10 Batch 1:  Loss:     1.8851 Validation Accuracy: 0.371600\n",
      "Epoch  3, CIFAR-10 Batch 1:  Loss:     1.6797 Validation Accuracy: 0.414000\n",
      "Epoch  4, CIFAR-10 Batch 1:  Loss:     1.4788 Validation Accuracy: 0.443400\n",
      "Epoch  5, CIFAR-10 Batch 1:  Loss:     1.3027 Validation Accuracy: 0.478600\n",
      "Epoch  6, CIFAR-10 Batch 1:  Loss:     1.1935 Validation Accuracy: 0.489600\n",
      "Epoch  7, CIFAR-10 Batch 1:  Loss:     1.0449 Validation Accuracy: 0.521000\n",
      "Epoch  8, CIFAR-10 Batch 1:  Loss:     0.9198 Validation Accuracy: 0.543200\n",
      "Epoch  9, CIFAR-10 Batch 1:  Loss:     0.8311 Validation Accuracy: 0.539800\n",
      "Epoch 10, CIFAR-10 Batch 1:  Loss:     0.7524 Validation Accuracy: 0.562400\n",
      "Epoch 11, CIFAR-10 Batch 1:  Loss:     0.6947 Validation Accuracy: 0.561800\n",
      "Epoch 12, CIFAR-10 Batch 1:  Loss:     0.6353 Validation Accuracy: 0.547200\n",
      "Epoch 13, CIFAR-10 Batch 1:  Loss:     0.5726 Validation Accuracy: 0.586600\n",
      "Epoch 14, CIFAR-10 Batch 1:  Loss:     0.5107 Validation Accuracy: 0.592200\n",
      "Epoch 15, CIFAR-10 Batch 1:  Loss:     0.4882 Validation Accuracy: 0.587000\n",
      "Epoch 16, CIFAR-10 Batch 1:  Loss:     0.4418 Validation Accuracy: 0.602200\n",
      "Epoch 17, CIFAR-10 Batch 1:  Loss:     0.4267 Validation Accuracy: 0.601800\n",
      "Epoch 18, CIFAR-10 Batch 1:  Loss:     0.3870 Validation Accuracy: 0.591800\n",
      "Epoch 19, CIFAR-10 Batch 1:  Loss:     0.3595 Validation Accuracy: 0.610200\n",
      "Epoch 20, CIFAR-10 Batch 1:  Loss:     0.3130 Validation Accuracy: 0.618200\n",
      "Epoch 21, CIFAR-10 Batch 1:  Loss:     0.2732 Validation Accuracy: 0.612200\n",
      "Epoch 22, CIFAR-10 Batch 1:  Loss:     0.2507 Validation Accuracy: 0.608400\n",
      "Epoch 23, CIFAR-10 Batch 1:  Loss:     0.2336 Validation Accuracy: 0.608400\n",
      "Epoch 24, CIFAR-10 Batch 1:  Loss:     0.2267 Validation Accuracy: 0.598400\n",
      "Epoch 25, CIFAR-10 Batch 1:  Loss:     0.2201 Validation Accuracy: 0.604600\n",
      "Epoch 26, CIFAR-10 Batch 1:  Loss:     0.1895 Validation Accuracy: 0.607800\n",
      "Epoch 27, CIFAR-10 Batch 1:  Loss:     0.1770 Validation Accuracy: 0.607400\n",
      "Epoch 28, CIFAR-10 Batch 1:  Loss:     0.1513 Validation Accuracy: 0.599600\n",
      "Epoch 29, CIFAR-10 Batch 1:  Loss:     0.1439 Validation Accuracy: 0.597600\n",
      "Epoch 30, CIFAR-10 Batch 1:  Loss:     0.1184 Validation Accuracy: 0.614600\n",
      "Epoch 31, CIFAR-10 Batch 1:  Loss:     0.1465 Validation Accuracy: 0.616000\n",
      "Epoch 32, CIFAR-10 Batch 1:  Loss:     0.0978 Validation Accuracy: 0.630600\n",
      "Epoch 33, CIFAR-10 Batch 1:  Loss:     0.0958 Validation Accuracy: 0.628000\n",
      "Epoch 34, CIFAR-10 Batch 1:  Loss:     0.1023 Validation Accuracy: 0.627600\n",
      "Epoch 35, CIFAR-10 Batch 1:  Loss:     0.0855 Validation Accuracy: 0.623600\n",
      "Epoch 36, CIFAR-10 Batch 1:  Loss:     0.0848 Validation Accuracy: 0.623200\n",
      "Epoch 37, CIFAR-10 Batch 1:  Loss:     0.0744 Validation Accuracy: 0.620800\n",
      "Epoch 38, CIFAR-10 Batch 1:  Loss:     0.0625 Validation Accuracy: 0.628200\n",
      "Epoch 39, CIFAR-10 Batch 1:  Loss:     0.0575 Validation Accuracy: 0.607200\n",
      "Epoch 40, CIFAR-10 Batch 1:  Loss:     0.0467 Validation Accuracy: 0.622600\n"
     ]
    }
   ],
   "source": [
    "\"\"\"\n",
    "DON'T MODIFY ANYTHING IN THIS CELL\n",
    "\"\"\"\n",
    "print('Checking the Training on a Single Batch...')\n",
    "with tf.Session() as sess:\n",
    "    # Initializing the variables\n",
    "    sess.run(tf.global_variables_initializer())\n",
    "    \n",
    "    # Training cycle\n",
    "    for epoch in range(epochs):\n",
    "        batch_i = 1\n",
    "        for batch_features, batch_labels in helper.load_preprocess_training_batch(batch_i, batch_size):\n",
    "            train_neural_network(sess, optimizer, keep_probability, batch_features, batch_labels)\n",
    "        print('Epoch {:>2}, CIFAR-10 Batch {}:  '.format(epoch + 1, batch_i), end='')\n",
    "        print_stats(sess, batch_features, batch_labels, cost, accuracy)"
   ]
  },
  {
   "cell_type": "markdown",
   "metadata": {
    "deletable": true,
    "editable": true
   },
   "source": [
    "### Fully Train the Model\n",
    "Now that you got a good accuracy with a single CIFAR-10 batch, try it with all five batches."
   ]
  },
  {
   "cell_type": "code",
   "execution_count": 18,
   "metadata": {
    "collapsed": false,
    "deletable": true,
    "editable": true
   },
   "outputs": [
    {
     "name": "stdout",
     "output_type": "stream",
     "text": [
      "Training...\n",
      "Epoch  1, CIFAR-10 Batch 1:  Loss:     2.0922 Validation Accuracy: 0.305200\n",
      "Epoch  1, CIFAR-10 Batch 2:  Loss:     1.7247 Validation Accuracy: 0.389200\n",
      "Epoch  1, CIFAR-10 Batch 3:  Loss:     1.4832 Validation Accuracy: 0.404600\n",
      "Epoch  1, CIFAR-10 Batch 4:  Loss:     1.5995 Validation Accuracy: 0.457000\n",
      "Epoch  1, CIFAR-10 Batch 5:  Loss:     1.4425 Validation Accuracy: 0.455800\n",
      "Epoch  2, CIFAR-10 Batch 1:  Loss:     1.5453 Validation Accuracy: 0.481200\n",
      "Epoch  2, CIFAR-10 Batch 2:  Loss:     1.2987 Validation Accuracy: 0.500400\n",
      "Epoch  2, CIFAR-10 Batch 3:  Loss:     1.0555 Validation Accuracy: 0.487400\n",
      "Epoch  2, CIFAR-10 Batch 4:  Loss:     1.1827 Validation Accuracy: 0.522600\n",
      "Epoch  2, CIFAR-10 Batch 5:  Loss:     1.1656 Validation Accuracy: 0.538800\n",
      "Epoch  3, CIFAR-10 Batch 1:  Loss:     1.2347 Validation Accuracy: 0.556000\n",
      "Epoch  3, CIFAR-10 Batch 2:  Loss:     1.0386 Validation Accuracy: 0.552800\n",
      "Epoch  3, CIFAR-10 Batch 3:  Loss:     0.8729 Validation Accuracy: 0.541000\n",
      "Epoch  3, CIFAR-10 Batch 4:  Loss:     1.0669 Validation Accuracy: 0.579000\n",
      "Epoch  3, CIFAR-10 Batch 5:  Loss:     0.9681 Validation Accuracy: 0.579400\n",
      "Epoch  4, CIFAR-10 Batch 1:  Loss:     1.1025 Validation Accuracy: 0.575200\n",
      "Epoch  4, CIFAR-10 Batch 2:  Loss:     0.9411 Validation Accuracy: 0.579400\n",
      "Epoch  4, CIFAR-10 Batch 3:  Loss:     0.7147 Validation Accuracy: 0.581800\n",
      "Epoch  4, CIFAR-10 Batch 4:  Loss:     0.9458 Validation Accuracy: 0.603800\n",
      "Epoch  4, CIFAR-10 Batch 5:  Loss:     0.8665 Validation Accuracy: 0.597400\n",
      "Epoch  5, CIFAR-10 Batch 1:  Loss:     0.9786 Validation Accuracy: 0.602200\n",
      "Epoch  5, CIFAR-10 Batch 2:  Loss:     0.7888 Validation Accuracy: 0.598200\n",
      "Epoch  5, CIFAR-10 Batch 3:  Loss:     0.6489 Validation Accuracy: 0.612200\n",
      "Epoch  5, CIFAR-10 Batch 4:  Loss:     0.8085 Validation Accuracy: 0.629000\n",
      "Epoch  5, CIFAR-10 Batch 5:  Loss:     0.7636 Validation Accuracy: 0.616800\n",
      "Epoch  6, CIFAR-10 Batch 1:  Loss:     0.9119 Validation Accuracy: 0.624400\n",
      "Epoch  6, CIFAR-10 Batch 2:  Loss:     0.7634 Validation Accuracy: 0.607800\n",
      "Epoch  6, CIFAR-10 Batch 3:  Loss:     0.5921 Validation Accuracy: 0.618200\n",
      "Epoch  6, CIFAR-10 Batch 4:  Loss:     0.7776 Validation Accuracy: 0.638800\n",
      "Epoch  6, CIFAR-10 Batch 5:  Loss:     0.6612 Validation Accuracy: 0.628400\n",
      "Epoch  7, CIFAR-10 Batch 1:  Loss:     0.8034 Validation Accuracy: 0.632800\n",
      "Epoch  7, CIFAR-10 Batch 2:  Loss:     0.6661 Validation Accuracy: 0.648200\n",
      "Epoch  7, CIFAR-10 Batch 3:  Loss:     0.5468 Validation Accuracy: 0.638800\n",
      "Epoch  7, CIFAR-10 Batch 4:  Loss:     0.6933 Validation Accuracy: 0.658200\n",
      "Epoch  7, CIFAR-10 Batch 5:  Loss:     0.5480 Validation Accuracy: 0.651400\n",
      "Epoch  8, CIFAR-10 Batch 1:  Loss:     0.7047 Validation Accuracy: 0.653600\n",
      "Epoch  8, CIFAR-10 Batch 2:  Loss:     0.6007 Validation Accuracy: 0.650200\n",
      "Epoch  8, CIFAR-10 Batch 3:  Loss:     0.4769 Validation Accuracy: 0.648600\n",
      "Epoch  8, CIFAR-10 Batch 4:  Loss:     0.6137 Validation Accuracy: 0.666000\n",
      "Epoch  8, CIFAR-10 Batch 5:  Loss:     0.4896 Validation Accuracy: 0.646200\n",
      "Epoch  9, CIFAR-10 Batch 1:  Loss:     0.6644 Validation Accuracy: 0.651400\n",
      "Epoch  9, CIFAR-10 Batch 2:  Loss:     0.5380 Validation Accuracy: 0.674800\n",
      "Epoch  9, CIFAR-10 Batch 3:  Loss:     0.4204 Validation Accuracy: 0.657400\n",
      "Epoch  9, CIFAR-10 Batch 4:  Loss:     0.5119 Validation Accuracy: 0.678000\n",
      "Epoch  9, CIFAR-10 Batch 5:  Loss:     0.4635 Validation Accuracy: 0.660400\n",
      "Epoch 10, CIFAR-10 Batch 1:  Loss:     0.6152 Validation Accuracy: 0.666200\n",
      "Epoch 10, CIFAR-10 Batch 2:  Loss:     0.4677 Validation Accuracy: 0.668200\n",
      "Epoch 10, CIFAR-10 Batch 3:  Loss:     0.4037 Validation Accuracy: 0.657000\n",
      "Epoch 10, CIFAR-10 Batch 4:  Loss:     0.4890 Validation Accuracy: 0.679600\n",
      "Epoch 10, CIFAR-10 Batch 5:  Loss:     0.4584 Validation Accuracy: 0.683400\n",
      "Epoch 11, CIFAR-10 Batch 1:  Loss:     0.5417 Validation Accuracy: 0.675400\n",
      "Epoch 11, CIFAR-10 Batch 2:  Loss:     0.3912 Validation Accuracy: 0.685000\n",
      "Epoch 11, CIFAR-10 Batch 3:  Loss:     0.3648 Validation Accuracy: 0.678000\n",
      "Epoch 11, CIFAR-10 Batch 4:  Loss:     0.4469 Validation Accuracy: 0.691600\n",
      "Epoch 11, CIFAR-10 Batch 5:  Loss:     0.3709 Validation Accuracy: 0.685000\n",
      "Epoch 12, CIFAR-10 Batch 1:  Loss:     0.5014 Validation Accuracy: 0.678800\n",
      "Epoch 12, CIFAR-10 Batch 2:  Loss:     0.3788 Validation Accuracy: 0.686600\n",
      "Epoch 12, CIFAR-10 Batch 3:  Loss:     0.3143 Validation Accuracy: 0.666800\n",
      "Epoch 12, CIFAR-10 Batch 4:  Loss:     0.3867 Validation Accuracy: 0.692400\n",
      "Epoch 12, CIFAR-10 Batch 5:  Loss:     0.3542 Validation Accuracy: 0.686000\n",
      "Epoch 13, CIFAR-10 Batch 1:  Loss:     0.4208 Validation Accuracy: 0.680400\n",
      "Epoch 13, CIFAR-10 Batch 2:  Loss:     0.3212 Validation Accuracy: 0.700000\n",
      "Epoch 13, CIFAR-10 Batch 3:  Loss:     0.3126 Validation Accuracy: 0.672400\n",
      "Epoch 13, CIFAR-10 Batch 4:  Loss:     0.3296 Validation Accuracy: 0.701600\n",
      "Epoch 13, CIFAR-10 Batch 5:  Loss:     0.3185 Validation Accuracy: 0.701200\n",
      "Epoch 14, CIFAR-10 Batch 1:  Loss:     0.3691 Validation Accuracy: 0.684400\n",
      "Epoch 14, CIFAR-10 Batch 2:  Loss:     0.3008 Validation Accuracy: 0.699600\n",
      "Epoch 14, CIFAR-10 Batch 3:  Loss:     0.2725 Validation Accuracy: 0.678200\n",
      "Epoch 14, CIFAR-10 Batch 4:  Loss:     0.3098 Validation Accuracy: 0.703400\n",
      "Epoch 14, CIFAR-10 Batch 5:  Loss:     0.2781 Validation Accuracy: 0.704600\n",
      "Epoch 15, CIFAR-10 Batch 1:  Loss:     0.3292 Validation Accuracy: 0.699400\n",
      "Epoch 15, CIFAR-10 Batch 2:  Loss:     0.2440 Validation Accuracy: 0.705600\n",
      "Epoch 15, CIFAR-10 Batch 3:  Loss:     0.2360 Validation Accuracy: 0.690000\n",
      "Epoch 15, CIFAR-10 Batch 4:  Loss:     0.2815 Validation Accuracy: 0.709000\n",
      "Epoch 15, CIFAR-10 Batch 5:  Loss:     0.2527 Validation Accuracy: 0.699600\n",
      "Epoch 16, CIFAR-10 Batch 1:  Loss:     0.3042 Validation Accuracy: 0.699200\n",
      "Epoch 16, CIFAR-10 Batch 2:  Loss:     0.2151 Validation Accuracy: 0.706800\n",
      "Epoch 16, CIFAR-10 Batch 3:  Loss:     0.2145 Validation Accuracy: 0.700600\n",
      "Epoch 16, CIFAR-10 Batch 4:  Loss:     0.2579 Validation Accuracy: 0.713600\n",
      "Epoch 16, CIFAR-10 Batch 5:  Loss:     0.2425 Validation Accuracy: 0.704800\n",
      "Epoch 17, CIFAR-10 Batch 1:  Loss:     0.3060 Validation Accuracy: 0.707400\n",
      "Epoch 17, CIFAR-10 Batch 2:  Loss:     0.2242 Validation Accuracy: 0.708200\n",
      "Epoch 17, CIFAR-10 Batch 3:  Loss:     0.2069 Validation Accuracy: 0.698000\n",
      "Epoch 17, CIFAR-10 Batch 4:  Loss:     0.2611 Validation Accuracy: 0.715800\n",
      "Epoch 17, CIFAR-10 Batch 5:  Loss:     0.2432 Validation Accuracy: 0.716800\n",
      "Epoch 18, CIFAR-10 Batch 1:  Loss:     0.3152 Validation Accuracy: 0.707200\n",
      "Epoch 18, CIFAR-10 Batch 2:  Loss:     0.1953 Validation Accuracy: 0.700400\n",
      "Epoch 18, CIFAR-10 Batch 3:  Loss:     0.1890 Validation Accuracy: 0.694200\n",
      "Epoch 18, CIFAR-10 Batch 4:  Loss:     0.2220 Validation Accuracy: 0.698600\n",
      "Epoch 18, CIFAR-10 Batch 5:  Loss:     0.2272 Validation Accuracy: 0.712400\n",
      "Epoch 19, CIFAR-10 Batch 1:  Loss:     0.2641 Validation Accuracy: 0.707200\n",
      "Epoch 19, CIFAR-10 Batch 2:  Loss:     0.2008 Validation Accuracy: 0.718200\n",
      "Epoch 19, CIFAR-10 Batch 3:  Loss:     0.1893 Validation Accuracy: 0.705400\n",
      "Epoch 19, CIFAR-10 Batch 4:  Loss:     0.1897 Validation Accuracy: 0.715000\n",
      "Epoch 19, CIFAR-10 Batch 5:  Loss:     0.1851 Validation Accuracy: 0.715600\n",
      "Epoch 20, CIFAR-10 Batch 1:  Loss:     0.2356 Validation Accuracy: 0.718000\n",
      "Epoch 20, CIFAR-10 Batch 2:  Loss:     0.1712 Validation Accuracy: 0.710000\n",
      "Epoch 20, CIFAR-10 Batch 3:  Loss:     0.1535 Validation Accuracy: 0.701600\n",
      "Epoch 20, CIFAR-10 Batch 4:  Loss:     0.1753 Validation Accuracy: 0.714000\n",
      "Epoch 20, CIFAR-10 Batch 5:  Loss:     0.1769 Validation Accuracy: 0.715600\n",
      "Epoch 21, CIFAR-10 Batch 1:  Loss:     0.2346 Validation Accuracy: 0.716200\n",
      "Epoch 21, CIFAR-10 Batch 2:  Loss:     0.1662 Validation Accuracy: 0.714600\n",
      "Epoch 21, CIFAR-10 Batch 3:  Loss:     0.1500 Validation Accuracy: 0.704600\n",
      "Epoch 21, CIFAR-10 Batch 4:  Loss:     0.1669 Validation Accuracy: 0.707800\n",
      "Epoch 21, CIFAR-10 Batch 5:  Loss:     0.1501 Validation Accuracy: 0.721800\n",
      "Epoch 22, CIFAR-10 Batch 1:  Loss:     0.2096 Validation Accuracy: 0.722000\n",
      "Epoch 22, CIFAR-10 Batch 2:  Loss:     0.1603 Validation Accuracy: 0.720400\n",
      "Epoch 22, CIFAR-10 Batch 3:  Loss:     0.1503 Validation Accuracy: 0.695800\n",
      "Epoch 22, CIFAR-10 Batch 4:  Loss:     0.1719 Validation Accuracy: 0.713400\n",
      "Epoch 22, CIFAR-10 Batch 5:  Loss:     0.1161 Validation Accuracy: 0.723800\n",
      "Epoch 23, CIFAR-10 Batch 1:  Loss:     0.1881 Validation Accuracy: 0.720400\n",
      "Epoch 23, CIFAR-10 Batch 2:  Loss:     0.1779 Validation Accuracy: 0.705000\n",
      "Epoch 23, CIFAR-10 Batch 3:  Loss:     0.1380 Validation Accuracy: 0.690000\n",
      "Epoch 23, CIFAR-10 Batch 4:  Loss:     0.1697 Validation Accuracy: 0.714400\n",
      "Epoch 23, CIFAR-10 Batch 5:  Loss:     0.1427 Validation Accuracy: 0.716800\n",
      "Epoch 24, CIFAR-10 Batch 1:  Loss:     0.1947 Validation Accuracy: 0.726200\n",
      "Epoch 24, CIFAR-10 Batch 2:  Loss:     0.1456 Validation Accuracy: 0.711800\n",
      "Epoch 24, CIFAR-10 Batch 3:  Loss:     0.1247 Validation Accuracy: 0.696600\n",
      "Epoch 24, CIFAR-10 Batch 4:  Loss:     0.1670 Validation Accuracy: 0.709200\n",
      "Epoch 24, CIFAR-10 Batch 5:  Loss:     0.1195 Validation Accuracy: 0.716400\n",
      "Epoch 25, CIFAR-10 Batch 1:  Loss:     0.1798 Validation Accuracy: 0.726200\n",
      "Epoch 25, CIFAR-10 Batch 2:  Loss:     0.1646 Validation Accuracy: 0.706400\n",
      "Epoch 25, CIFAR-10 Batch 3:  Loss:     0.1174 Validation Accuracy: 0.706000\n",
      "Epoch 25, CIFAR-10 Batch 4:  Loss:     0.1420 Validation Accuracy: 0.712400\n",
      "Epoch 25, CIFAR-10 Batch 5:  Loss:     0.1164 Validation Accuracy: 0.711200\n",
      "Epoch 26, CIFAR-10 Batch 1:  Loss:     0.1428 Validation Accuracy: 0.720600\n",
      "Epoch 26, CIFAR-10 Batch 2:  Loss:     0.1484 Validation Accuracy: 0.717600\n",
      "Epoch 26, CIFAR-10 Batch 3:  Loss:     0.1386 Validation Accuracy: 0.705800\n",
      "Epoch 26, CIFAR-10 Batch 4:  Loss:     0.1267 Validation Accuracy: 0.713400\n",
      "Epoch 26, CIFAR-10 Batch 5:  Loss:     0.1021 Validation Accuracy: 0.721400\n",
      "Epoch 27, CIFAR-10 Batch 1:  Loss:     0.1674 Validation Accuracy: 0.712000\n",
      "Epoch 27, CIFAR-10 Batch 2:  Loss:     0.1262 Validation Accuracy: 0.719400\n",
      "Epoch 27, CIFAR-10 Batch 3:  Loss:     0.1082 Validation Accuracy: 0.709000\n",
      "Epoch 27, CIFAR-10 Batch 4:  Loss:     0.1329 Validation Accuracy: 0.716800\n",
      "Epoch 27, CIFAR-10 Batch 5:  Loss:     0.0759 Validation Accuracy: 0.726200\n",
      "Epoch 28, CIFAR-10 Batch 1:  Loss:     0.1580 Validation Accuracy: 0.707600\n",
      "Epoch 28, CIFAR-10 Batch 2:  Loss:     0.1322 Validation Accuracy: 0.717000\n",
      "Epoch 28, CIFAR-10 Batch 3:  Loss:     0.0980 Validation Accuracy: 0.711600\n",
      "Epoch 28, CIFAR-10 Batch 4:  Loss:     0.1175 Validation Accuracy: 0.713600\n",
      "Epoch 28, CIFAR-10 Batch 5:  Loss:     0.1052 Validation Accuracy: 0.723000\n",
      "Epoch 29, CIFAR-10 Batch 1:  Loss:     0.1442 Validation Accuracy: 0.717600\n",
      "Epoch 29, CIFAR-10 Batch 2:  Loss:     0.1257 Validation Accuracy: 0.718600\n",
      "Epoch 29, CIFAR-10 Batch 3:  Loss:     0.1021 Validation Accuracy: 0.719200\n",
      "Epoch 29, CIFAR-10 Batch 4:  Loss:     0.1051 Validation Accuracy: 0.707800\n",
      "Epoch 29, CIFAR-10 Batch 5:  Loss:     0.0853 Validation Accuracy: 0.722600\n",
      "Epoch 30, CIFAR-10 Batch 1:  Loss:     0.1248 Validation Accuracy: 0.720600\n",
      "Epoch 30, CIFAR-10 Batch 2:  Loss:     0.1136 Validation Accuracy: 0.724200\n",
      "Epoch 30, CIFAR-10 Batch 3:  Loss:     0.0883 Validation Accuracy: 0.709800\n",
      "Epoch 30, CIFAR-10 Batch 4:  Loss:     0.1013 Validation Accuracy: 0.703400\n",
      "Epoch 30, CIFAR-10 Batch 5:  Loss:     0.0916 Validation Accuracy: 0.728600\n",
      "Epoch 31, CIFAR-10 Batch 1:  Loss:     0.1178 Validation Accuracy: 0.722800\n",
      "Epoch 31, CIFAR-10 Batch 2:  Loss:     0.0977 Validation Accuracy: 0.726800\n",
      "Epoch 31, CIFAR-10 Batch 3:  Loss:     0.0989 Validation Accuracy: 0.725000\n",
      "Epoch 31, CIFAR-10 Batch 4:  Loss:     0.0894 Validation Accuracy: 0.712000\n",
      "Epoch 31, CIFAR-10 Batch 5:  Loss:     0.0740 Validation Accuracy: 0.725400\n",
      "Epoch 32, CIFAR-10 Batch 1:  Loss:     0.1250 Validation Accuracy: 0.726800\n",
      "Epoch 32, CIFAR-10 Batch 2:  Loss:     0.0861 Validation Accuracy: 0.726200\n",
      "Epoch 32, CIFAR-10 Batch 3:  Loss:     0.0842 Validation Accuracy: 0.733000\n",
      "Epoch 32, CIFAR-10 Batch 4:  Loss:     0.0852 Validation Accuracy: 0.709600\n",
      "Epoch 32, CIFAR-10 Batch 5:  Loss:     0.0815 Validation Accuracy: 0.717000\n",
      "Epoch 33, CIFAR-10 Batch 1:  Loss:     0.0887 Validation Accuracy: 0.728800\n",
      "Epoch 33, CIFAR-10 Batch 2:  Loss:     0.1130 Validation Accuracy: 0.728800\n",
      "Epoch 33, CIFAR-10 Batch 3:  Loss:     0.0817 Validation Accuracy: 0.722000\n",
      "Epoch 33, CIFAR-10 Batch 4:  Loss:     0.0750 Validation Accuracy: 0.720800\n",
      "Epoch 33, CIFAR-10 Batch 5:  Loss:     0.0721 Validation Accuracy: 0.725400\n",
      "Epoch 34, CIFAR-10 Batch 1:  Loss:     0.0961 Validation Accuracy: 0.735200\n",
      "Epoch 34, CIFAR-10 Batch 2:  Loss:     0.1030 Validation Accuracy: 0.732200\n",
      "Epoch 34, CIFAR-10 Batch 3:  Loss:     0.0823 Validation Accuracy: 0.728200\n",
      "Epoch 34, CIFAR-10 Batch 4:  Loss:     0.0816 Validation Accuracy: 0.718400\n",
      "Epoch 34, CIFAR-10 Batch 5:  Loss:     0.0680 Validation Accuracy: 0.717200\n",
      "Epoch 35, CIFAR-10 Batch 1:  Loss:     0.0968 Validation Accuracy: 0.726400\n",
      "Epoch 35, CIFAR-10 Batch 2:  Loss:     0.0939 Validation Accuracy: 0.731800\n",
      "Epoch 35, CIFAR-10 Batch 3:  Loss:     0.0851 Validation Accuracy: 0.730600\n",
      "Epoch 35, CIFAR-10 Batch 4:  Loss:     0.0778 Validation Accuracy: 0.721200\n",
      "Epoch 35, CIFAR-10 Batch 5:  Loss:     0.0525 Validation Accuracy: 0.725200\n",
      "Epoch 36, CIFAR-10 Batch 1:  Loss:     0.0864 Validation Accuracy: 0.732400\n",
      "Epoch 36, CIFAR-10 Batch 2:  Loss:     0.0866 Validation Accuracy: 0.727800\n",
      "Epoch 36, CIFAR-10 Batch 3:  Loss:     0.0910 Validation Accuracy: 0.723400\n",
      "Epoch 36, CIFAR-10 Batch 4:  Loss:     0.0756 Validation Accuracy: 0.726200\n",
      "Epoch 36, CIFAR-10 Batch 5:  Loss:     0.0582 Validation Accuracy: 0.728200\n",
      "Epoch 37, CIFAR-10 Batch 1:  Loss:     0.0938 Validation Accuracy: 0.731400\n",
      "Epoch 37, CIFAR-10 Batch 2:  Loss:     0.0829 Validation Accuracy: 0.724800\n",
      "Epoch 37, CIFAR-10 Batch 3:  Loss:     0.0961 Validation Accuracy: 0.716400\n",
      "Epoch 37, CIFAR-10 Batch 4:  Loss:     0.0675 Validation Accuracy: 0.718800\n",
      "Epoch 37, CIFAR-10 Batch 5:  Loss:     0.0561 Validation Accuracy: 0.722200\n",
      "Epoch 38, CIFAR-10 Batch 1:  Loss:     0.1037 Validation Accuracy: 0.731400\n",
      "Epoch 38, CIFAR-10 Batch 2:  Loss:     0.0737 Validation Accuracy: 0.729200\n",
      "Epoch 38, CIFAR-10 Batch 3:  Loss:     0.0887 Validation Accuracy: 0.724000\n",
      "Epoch 38, CIFAR-10 Batch 4:  Loss:     0.0666 Validation Accuracy: 0.722800\n",
      "Epoch 38, CIFAR-10 Batch 5:  Loss:     0.0575 Validation Accuracy: 0.726000\n",
      "Epoch 39, CIFAR-10 Batch 1:  Loss:     0.0959 Validation Accuracy: 0.725800\n",
      "Epoch 39, CIFAR-10 Batch 2:  Loss:     0.0686 Validation Accuracy: 0.729600\n",
      "Epoch 39, CIFAR-10 Batch 3:  Loss:     0.0829 Validation Accuracy: 0.734200\n",
      "Epoch 39, CIFAR-10 Batch 4:  Loss:     0.0592 Validation Accuracy: 0.721000\n",
      "Epoch 39, CIFAR-10 Batch 5:  Loss:     0.0487 Validation Accuracy: 0.733200\n",
      "Epoch 40, CIFAR-10 Batch 1:  Loss:     0.0701 Validation Accuracy: 0.733200\n",
      "Epoch 40, CIFAR-10 Batch 2:  Loss:     0.0758 Validation Accuracy: 0.733600\n",
      "Epoch 40, CIFAR-10 Batch 3:  Loss:     0.0904 Validation Accuracy: 0.728600\n",
      "Epoch 40, CIFAR-10 Batch 4:  Loss:     0.0514 Validation Accuracy: 0.723000\n",
      "Epoch 40, CIFAR-10 Batch 5:  Loss:     0.0385 Validation Accuracy: 0.732600\n"
     ]
    }
   ],
   "source": [
    "\"\"\"\n",
    "DON'T MODIFY ANYTHING IN THIS CELL\n",
    "\"\"\"\n",
    "save_model_path = './image_classification'\n",
    "\n",
    "print('Training...')\n",
    "with tf.Session() as sess:\n",
    "    # Initializing the variables\n",
    "    sess.run(tf.global_variables_initializer())\n",
    "    \n",
    "    # Training cycle\n",
    "    for epoch in range(epochs):\n",
    "        # Loop over all batches\n",
    "        n_batches = 5\n",
    "        for batch_i in range(1, n_batches + 1):\n",
    "            for batch_features, batch_labels in helper.load_preprocess_training_batch(batch_i, batch_size):\n",
    "                train_neural_network(sess, optimizer, keep_probability, batch_features, batch_labels)\n",
    "            print('Epoch {:>2}, CIFAR-10 Batch {}:  '.format(epoch + 1, batch_i), end='')\n",
    "            print_stats(sess, batch_features, batch_labels, cost, accuracy)\n",
    "            \n",
    "    # Save Model\n",
    "    saver = tf.train.Saver()\n",
    "    save_path = saver.save(sess, save_model_path)"
   ]
  },
  {
   "cell_type": "markdown",
   "metadata": {
    "deletable": true,
    "editable": true
   },
   "source": [
    "# Checkpoint\n",
    "The model has been saved to disk.\n",
    "## Test Model\n",
    "Test your model against the test dataset.  This will be your final accuracy. You should have an accuracy greater than 50%. If you don't, keep tweaking the model architecture and parameters."
   ]
  },
  {
   "cell_type": "code",
   "execution_count": 19,
   "metadata": {
    "collapsed": false,
    "deletable": true,
    "editable": true
   },
   "outputs": [
    {
     "name": "stdout",
     "output_type": "stream",
     "text": [
      "Testing Accuracy: 0.7333984375\n",
      "\n"
     ]
    },
    {
     "data": {
      "image/png": "[encoded data removed]",
      "text/plain": [
       "<matplotlib.figure.Figure at 0x7fabc8f4f3c8>"
      ]
     },
     "metadata": {
      "image/png": {
       "height": 319,
       "width": 355
      }
     },
     "output_type": "display_data"
    }
   ],
   "source": [
    "\"\"\"\n",
    "DON'T MODIFY ANYTHING IN THIS CELL\n",
    "\"\"\"\n",
    "%matplotlib inline\n",
    "%config InlineBackend.figure_format = 'retina'\n",
    "\n",
    "import tensorflow as tf\n",
    "import pickle\n",
    "import helper\n",
    "import random\n",
    "\n",
    "# Set batch size if not already set\n",
    "try:\n",
    "    if batch_size:\n",
    "        pass\n",
    "except NameError:\n",
    "    batch_size = 64\n",
    "\n",
    "save_model_path = './image_classification'\n",
    "n_samples = 4\n",
    "top_n_predictions = 3\n",
    "\n",
    "def test_model():\n",
    "    \"\"\"\n",
    "    Test the saved model against the test dataset\n",
    "    \"\"\"\n",
    "\n",
    "    test_features, test_labels = pickle.load(open('preprocess_training.p', mode='rb'))\n",
    "    loaded_graph = tf.Graph()\n",
    "\n",
    "    with tf.Session(graph=loaded_graph) as sess:\n",
    "        # Load model\n",
    "        loader = tf.train.import_meta_graph(save_model_path + '.meta')\n",
    "        loader.restore(sess, save_model_path)\n",
    "\n",
    "        # Get Tensors from loaded model\n",
    "        loaded_x = loaded_graph.get_tensor_by_name('x:0')\n",
    "        loaded_y = loaded_graph.get_tensor_by_name('y:0')\n",
    "        loaded_keep_prob = loaded_graph.get_tensor_by_name('keep_prob:0')\n",
    "        loaded_logits = loaded_graph.get_tensor_by_name('logits:0')\n",
    "        loaded_acc = loaded_graph.get_tensor_by_name('accuracy:0')\n",
    "        \n",
    "        # Get accuracy in batches for memory limitations\n",
    "        test_batch_acc_total = 0\n",
    "        test_batch_count = 0\n",
    "        \n",
    "        for train_feature_batch, train_label_batch in helper.batch_features_labels(test_features, test_labels, batch_size):\n",
    "            test_batch_acc_total += sess.run(\n",
    "                loaded_acc,\n",
    "                feed_dict={loaded_x: train_feature_batch, loaded_y: train_label_batch, loaded_keep_prob: 1.0})\n",
    "            test_batch_count += 1\n",
    "\n",
    "        print('Testing Accuracy: {}\\n'.format(test_batch_acc_total/test_batch_count))\n",
    "\n",
    "        # Print Random Samples\n",
    "        random_test_features, random_test_labels = tuple(zip(*random.sample(list(zip(test_features, test_labels)), n_samples)))\n",
    "        random_test_predictions = sess.run(\n",
    "            tf.nn.top_k(tf.nn.softmax(loaded_logits), top_n_predictions),\n",
    "            feed_dict={loaded_x: random_test_features, loaded_y: random_test_labels, loaded_keep_prob: 1.0})\n",
    "        helper.display_image_predictions(random_test_features, random_test_labels, random_test_predictions)\n",
    "\n",
    "\n",
    "test_model()"
   ]
  },
  {
   "cell_type": "markdown",
   "metadata": {
    "deletable": true,
    "editable": true
   },
   "source": [
    "## Why 50-70% Accuracy?\n",
    "You might be wondering why you can't get an accuracy any higher. First things first, 50% isn't bad for a simple CNN.  Pure guessing would get you 10% accuracy. However, you might notice people are getting scores [well above 70%](http://rodrigob.github.io/are_we_there_yet/build/classification_datasets_results.html#43494641522d3130).  That's because we haven't taught you all there is to know about neural networks. We still need to cover a few more techniques.\n",
    "## Submitting This Project\n",
    "When submitting this project, make sure to run all the cells before saving the notebook.  Save the notebook file as \"dlnd_image_classification.ipynb\" and save it as a HTML file under \"File\" -> \"Download as\".  Include the \"helper.py\" and \"problem_unittests.py\" files in your submission."
   ]
  }
 ],
 "metadata": {
  "kernelspec": {
   "display_name": "Python 3",
   "language": "python",
   "name": "python3"
  },
  "language_info": {
   "codemirror_mode": {
    "name": "ipython",
    "version": 3
   },
   "file_extension": ".py",
   "mimetype": "text/x-python",
   "name": "python",
   "nbconvert_exporter": "python",
   "pygments_lexer": "ipython3",
   "version": "3.5.3"
  }
 },
 "nbformat": 4,
 "nbformat_minor": 0
}
