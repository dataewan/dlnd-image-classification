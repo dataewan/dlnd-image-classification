{
 "cells": [
  {
   "cell_type": "markdown",
   "metadata": {
    "collapsed": true,
    "deletable": true,
    "editable": true
   },
   "source": [
    "# Image Classification\n",
    "In this project, you'll classify images from the [CIFAR-10 dataset](https://www.cs.toronto.edu/~kriz/cifar.html).  The dataset consists of airplanes, dogs, cats, and other objects. You'll preprocess the images, then train a convolutional neural network on all the samples. The images need to be normalized and the labels need to be one-hot encoded.  You'll get to apply what you learned and build a convolutional, max pooling, dropout, and fully connected layers.  At the end, you'll get to see your neural network's predictions on the sample images.\n",
    "## Get the Data\n",
    "Run the following cell to download the [CIFAR-10 dataset for python](https://www.cs.toronto.edu/~kriz/cifar-10-python.tar.gz)."
   ]
  },
  {
   "cell_type": "code",
   "execution_count": 1,
   "metadata": {
    "collapsed": false,
    "deletable": true,
    "editable": true
   },
   "outputs": [
    {
     "name": "stderr",
     "output_type": "stream",
     "text": [
      "CIFAR-10 Dataset: 171MB [00:17, 9.58MB/s]                              \n"
     ]
    },
    {
     "name": "stdout",
     "output_type": "stream",
     "text": [
      "All files found!\n"
     ]
    }
   ],
   "source": [
    "\"\"\"\n",
    "DON'T MODIFY ANYTHING IN THIS CELL THAT IS BELOW THIS LINE\n",
    "\"\"\"\n",
    "from urllib.request import urlretrieve\n",
    "from os.path import isfile, isdir\n",
    "from tqdm import tqdm\n",
    "import problem_unittests as tests\n",
    "import tarfile\n",
    "\n",
    "cifar10_dataset_folder_path = 'cifar-10-batches-py'\n",
    "\n",
    "# Use Floyd's cifar-10 dataset if present\n",
    "floyd_cifar10_location = '/input/cifar-10/python.tar.gz'\n",
    "if isfile(floyd_cifar10_location):\n",
    "    tar_gz_path = floyd_cifar10_location\n",
    "else:\n",
    "    tar_gz_path = 'cifar-10-python.tar.gz'\n",
    "\n",
    "class DLProgress(tqdm):\n",
    "    last_block = 0\n",
    "\n",
    "    def hook(self, block_num=1, block_size=1, total_size=None):\n",
    "        self.total = total_size\n",
    "        self.update((block_num - self.last_block) * block_size)\n",
    "        self.last_block = block_num\n",
    "\n",
    "if not isfile('cifar-10-python.tar.gz'):\n",
    "    with DLProgress(unit='B', unit_scale=True, miniters=1, desc='CIFAR-10 Dataset') as pbar:\n",
    "        urlretrieve(\n",
    "            'https://www.cs.toronto.edu/~kriz/cifar-10-python.tar.gz',\n",
    "            'cifar-10-python.tar.gz',\n",
    "            pbar.hook)\n",
    "\n",
    "if not isdir(cifar10_dataset_folder_path):\n",
    "    with tarfile.open('cifar-10-python.tar.gz') as tar:\n",
    "        tar.extractall()\n",
    "        tar.close()\n",
    "\n",
    "\n",
    "tests.test_folder_path(cifar10_dataset_folder_path)"
   ]
  },
  {
   "cell_type": "markdown",
   "metadata": {
    "deletable": true,
    "editable": true
   },
   "source": [
    "## Explore the Data\n",
    "The dataset is broken into batches to prevent your machine from running out of memory.  The CIFAR-10 dataset consists of 5 batches, named `data_batch_1`, `data_batch_2`, etc.. Each batch contains the labels and images that are one of the following:\n",
    "* airplane\n",
    "* automobile\n",
    "* bird\n",
    "* cat\n",
    "* deer\n",
    "* dog\n",
    "* frog\n",
    "* horse\n",
    "* ship\n",
    "* truck\n",
    "\n",
    "Understanding a dataset is part of making predictions on the data.  Play around with the code cell below by changing the `batch_id` and `sample_id`. The `batch_id` is the id for a batch (1-5). The `sample_id` is the id for a image and label pair in the batch.\n",
    "\n",
    "Ask yourself \"What are all possible labels?\", \"What is the range of values for the image data?\", \"Are the labels in order or random?\".  Answers to questions like these will help you preprocess the data and end up with better predictions."
   ]
  },
  {
   "cell_type": "code",
   "execution_count": 8,
   "metadata": {
    "collapsed": false,
    "deletable": true,
    "editable": true
   },
   "outputs": [
    {
     "name": "stdout",
     "output_type": "stream",
     "text": [
      "\n",
      "Stats of batch 2:\n",
      "Samples: 10000\n",
      "Label Counts: {0: 984, 1: 1007, 2: 1010, 3: 995, 4: 1010, 5: 988, 6: 1008, 7: 1026, 8: 987, 9: 985}\n",
      "First 20 Labels: [1, 6, 6, 8, 8, 3, 4, 6, 0, 6, 0, 3, 6, 6, 5, 4, 8, 3, 2, 6]\n",
      "\n",
      "Example of Image 4:\n",
      "Image - Min Value: 0 Max Value: 255\n",
      "Image - Shape: (32, 32, 3)\n",
      "Label - Label Id: 8 Name: ship\n"
     ]
    },
    {
     "data": {
      "image/png": "[encoded data removed]",
      "text/plain": [
       "<matplotlib.figure.Figure at 0x7fd5dfb43eb8>"
      ]
     },
     "metadata": {
      "image/png": {
       "height": 250,
       "width": 253
      }
     },
     "output_type": "display_data"
    }
   ],
   "source": [
    "%matplotlib inline\n",
    "%config InlineBackend.figure_format = 'retina'\n",
    "\n",
    "import helper\n",
    "import numpy as np\n",
    "\n",
    "# Explore the dataset\n",
    "batch_id = 2\n",
    "sample_id = 4\n",
    "helper.display_stats(cifar10_dataset_folder_path, batch_id, sample_id)"
   ]
  },
  {
   "cell_type": "markdown",
   "metadata": {
    "deletable": true,
    "editable": true
   },
   "source": [
    "## Implement Preprocess Functions\n",
    "### Normalize\n",
    "In the cell below, implement the `normalize` function to take in image data, `x`, and return it as a normalized Numpy array. The values should be in the range of 0 to 1, inclusive.  The return object should be the same shape as `x`."
   ]
  },
  {
   "cell_type": "code",
   "execution_count": 9,
   "metadata": {
    "collapsed": false,
    "deletable": true,
    "editable": true
   },
   "outputs": [
    {
     "name": "stdout",
     "output_type": "stream",
     "text": [
      "Tests Passed\n"
     ]
    }
   ],
   "source": [
    "def normalize(x):\n",
    "    \"\"\"\n",
    "    Normalize a list of sample image data in the range of 0 to 1\n",
    "    : x: List of image data.  The image shape is (32, 32, 3)\n",
    "    : return: Numpy array of normalize data\n",
    "    \"\"\"\n",
    "    # TODO: Implement Function\n",
    "    maxx = np.max(x)\n",
    "    return(np.array(x/maxx))\n",
    "\n",
    "\n",
    "\"\"\"\n",
    "DON'T MODIFY ANYTHING IN THIS CELL THAT IS BELOW THIS LINE\n",
    "\"\"\"\n",
    "tests.test_normalize(normalize)"
   ]
  },
  {
   "cell_type": "markdown",
   "metadata": {
    "deletable": true,
    "editable": true
   },
   "source": [
    "### One-hot encode\n",
    "Just like the previous code cell, you'll be implementing a function for preprocessing.  This time, you'll implement the `one_hot_encode` function. The input, `x`, are a list of labels.  Implement the function to return the list of labels as One-Hot encoded Numpy array.  The possible values for labels are 0 to 9. The one-hot encoding function should return the same encoding for each value between each call to `one_hot_encode`.  Make sure to save the map of encodings outside the function.\n",
    "\n",
    "Hint: Don't reinvent the wheel."
   ]
  },
  {
   "cell_type": "code",
   "execution_count": 10,
   "metadata": {
    "collapsed": false,
    "deletable": true,
    "editable": true
   },
   "outputs": [
    {
     "name": "stdout",
     "output_type": "stream",
     "text": [
      "Tests Passed\n"
     ]
    }
   ],
   "source": [
    "onehotlookup = {}\n",
    "for i in range(10):\n",
    "    vec = np.zeros(10)\n",
    "    vec[i] = 1\n",
    "    onehotlookup[i] = vec\n",
    "\n",
    "def one_hot_encode(x):\n",
    "    \"\"\"\n",
    "    One hot encode a list of sample labels. Return a one-hot encoded vector for each label.\n",
    "    : x: List of sample Labels\n",
    "    : return: Numpy array of one-hot encoded labels\n",
    "    \"\"\"\n",
    "    output = []\n",
    "    for i in x:\n",
    "        output.append(onehotlookup[i])\n",
    "    return np.array(output)\n",
    "\n",
    "\"\"\"\n",
    "DON'T MODIFY ANYTHING IN THIS CELL THAT IS BELOW THIS LINE\n",
    "\"\"\"\n",
    "tests.test_one_hot_encode(one_hot_encode)"
   ]
  },
  {
   "cell_type": "markdown",
   "metadata": {
    "deletable": true,
    "editable": true
   },
   "source": [
    "### Randomize Data\n",
    "As you saw from exploring the data above, the order of the samples are randomized.  It doesn't hurt to randomize it again, but you don't need to for this dataset."
   ]
  },
  {
   "cell_type": "markdown",
   "metadata": {
    "deletable": true,
    "editable": true
   },
   "source": [
    "## Preprocess all the data and save it\n",
    "Running the code cell below will preprocess all the CIFAR-10 data and save it to file. The code below also uses 10% of the training data for validation."
   ]
  },
  {
   "cell_type": "code",
   "execution_count": 11,
   "metadata": {
    "collapsed": false,
    "deletable": true,
    "editable": true
   },
   "outputs": [],
   "source": [
    "\"\"\"\n",
    "DON'T MODIFY ANYTHING IN THIS CELL\n",
    "\"\"\"\n",
    "# Preprocess Training, Validation, and Testing Data\n",
    "helper.preprocess_and_save_data(cifar10_dataset_folder_path, normalize, one_hot_encode)"
   ]
  },
  {
   "cell_type": "markdown",
   "metadata": {
    "deletable": true,
    "editable": true
   },
   "source": [
    "# Check Point\n",
    "This is your first checkpoint.  If you ever decide to come back to this notebook or have to restart the notebook, you can start from here.  The preprocessed data has been saved to disk."
   ]
  },
  {
   "cell_type": "code",
   "execution_count": 12,
   "metadata": {
    "collapsed": true,
    "deletable": true,
    "editable": true
   },
   "outputs": [],
   "source": [
    "\"\"\"\n",
    "DON'T MODIFY ANYTHING IN THIS CELL\n",
    "\"\"\"\n",
    "import pickle\n",
    "import problem_unittests as tests\n",
    "import helper\n",
    "\n",
    "# Load the Preprocessed Validation data\n",
    "valid_features, valid_labels = pickle.load(open('preprocess_validation.p', mode='rb'))"
   ]
  },
  {
   "cell_type": "markdown",
   "metadata": {
    "deletable": true,
    "editable": true
   },
   "source": [
    "## Build the network\n",
    "For the neural network, you'll build each layer into a function.  Most of the code you've seen has been outside of functions. To test your code more thoroughly, we require that you put each layer in a function.  This allows us to give you better feedback and test for simple mistakes using our unittests before you submit your project.\n",
    "\n",
    "If you're finding it hard to dedicate enough time for this course a week, we've provided a small shortcut to this part of the project. In the next couple of problems, you'll have the option to use [TensorFlow Layers](https://www.tensorflow.org/api_docs/python/tf/layers) or [TensorFlow Layers (contrib)](https://www.tensorflow.org/api_guides/python/contrib.layers) to build each layer, except \"Convolutional & Max Pooling\" layer.  TF Layers is similar to Keras's and TFLearn's abstraction to layers, so it's easy to pickup.\n",
    "\n",
    "If you would like to get the most of this course, try to solve all the problems without TF Layers.  Let's begin!\n",
    "### Input\n",
    "The neural network needs to read the image data, one-hot encoded labels, and dropout keep probability. Implement the following functions\n",
    "* Implement `neural_net_image_input`\n",
    " * Return a [TF Placeholder](https://www.tensorflow.org/api_docs/python/tf/placeholder)\n",
    " * Set the shape using `image_shape` with batch size set to `None`.\n",
    " * Name the TensorFlow placeholder \"x\" using the TensorFlow `name` parameter in the [TF Placeholder](https://www.tensorflow.org/api_docs/python/tf/placeholder).\n",
    "* Implement `neural_net_label_input`\n",
    " * Return a [TF Placeholder](https://www.tensorflow.org/api_docs/python/tf/placeholder)\n",
    " * Set the shape using `n_classes` with batch size set to `None`.\n",
    " * Name the TensorFlow placeholder \"y\" using the TensorFlow `name` parameter in the [TF Placeholder](https://www.tensorflow.org/api_docs/python/tf/placeholder).\n",
    "* Implement `neural_net_keep_prob_input`\n",
    " * Return a [TF Placeholder](https://www.tensorflow.org/api_docs/python/tf/placeholder) for dropout keep probability.\n",
    " * Name the TensorFlow placeholder \"keep_prob\" using the TensorFlow `name` parameter in the [TF Placeholder](https://www.tensorflow.org/api_docs/python/tf/placeholder).\n",
    "\n",
    "These names will be used at the end of the project to load your saved model.\n",
    "\n",
    "Note: `None` for shapes in TensorFlow allow for a dynamic size."
   ]
  },
  {
   "cell_type": "code",
   "execution_count": 13,
   "metadata": {
    "collapsed": false,
    "deletable": true,
    "editable": true
   },
   "outputs": [
    {
     "name": "stdout",
     "output_type": "stream",
     "text": [
      "Image Input Tests Passed.\n",
      "Label Input Tests Passed.\n",
      "Keep Prob Tests Passed.\n"
     ]
    }
   ],
   "source": [
    "import tensorflow as tf\n",
    "\n",
    "def neural_net_image_input(image_shape):\n",
    "    \"\"\"\n",
    "    Return a Tensor for a bach of image input\n",
    "    : image_shape: Shape of the images\n",
    "    : return: Tensor for image input.\n",
    "    \"\"\"\n",
    "    # TODO: Implement Function\n",
    "    shape = (None, *image_shape)\n",
    "    return tf.placeholder(tf.float32, shape = shape, name = 'x')\n",
    "\n",
    "\n",
    "def neural_net_label_input(n_classes):\n",
    "    \"\"\"\n",
    "    Return a Tensor for a batch of label input\n",
    "    : n_classes: Number of classes\n",
    "    : return: Tensor for label input.\n",
    "    \"\"\"\n",
    "    # TODO: Implement Function\n",
    "    shape = (None, n_classes)\n",
    "    return tf.placeholder(tf.float32, shape = shape, name = 'y')\n",
    "\n",
    "\n",
    "def neural_net_keep_prob_input():\n",
    "    \"\"\"\n",
    "    Return a Tensor for keep probability\n",
    "    : return: Tensor for keep probability.\n",
    "    \"\"\"\n",
    "    # TODO: Implement Function\n",
    "    return tf.placeholder(tf.float32, name='keep_prob')\n",
    "\n",
    "\n",
    "\"\"\"\n",
    "DON'T MODIFY ANYTHING IN THIS CELL THAT IS BELOW THIS LINE\n",
    "\"\"\"\n",
    "tf.reset_default_graph()\n",
    "tests.test_nn_image_inputs(neural_net_image_input)\n",
    "tests.test_nn_label_inputs(neural_net_label_input)\n",
    "tests.test_nn_keep_prob_inputs(neural_net_keep_prob_input)"
   ]
  },
  {
   "cell_type": "markdown",
   "metadata": {
    "deletable": true,
    "editable": true
   },
   "source": [
    "### Convolution and Max Pooling Layer\n",
    "Convolution layers have a lot of success with images. For this code cell, you should implement the function `conv2d_maxpool` to apply convolution then max pooling:\n",
    "* Create the weight and bias using `conv_ksize`, `conv_num_outputs` and the shape of `x_tensor`.\n",
    "* Apply a convolution to `x_tensor` using weight and `conv_strides`.\n",
    " * We recommend you use same padding, but you're welcome to use any padding.\n",
    "* Add bias\n",
    "* Add a nonlinear activation to the convolution.\n",
    "* Apply Max Pooling using `pool_ksize` and `pool_strides`.\n",
    " * We recommend you use same padding, but you're welcome to use any padding.\n",
    "\n",
    "Note: You **can't** use [TensorFlow Layers](https://www.tensorflow.org/api_docs/python/tf/layers) or [TensorFlow Layers (contrib)](https://www.tensorflow.org/api_guides/python/contrib.layers) for this layer.  You're free to use any TensorFlow package for all the other layers."
   ]
  },
  {
   "cell_type": "code",
   "execution_count": 14,
   "metadata": {
    "collapsed": false,
    "deletable": true,
    "editable": true
   },
   "outputs": [
    {
     "data": {
      "text/plain": [
       "'1.0.0'"
      ]
     },
     "execution_count": 14,
     "metadata": {},
     "output_type": "execute_result"
    }
   ],
   "source": [
    "tf.__version__"
   ]
  },
  {
   "cell_type": "code",
   "execution_count": 15,
   "metadata": {
    "collapsed": false,
    "deletable": true,
    "editable": true
   },
   "outputs": [
    {
     "name": "stdout",
     "output_type": "stream",
     "text": [
      "Tests Passed\n"
     ]
    }
   ],
   "source": [
    "def conv2d_maxpool(x_tensor, conv_num_outputs, conv_ksize, conv_strides, pool_ksize, pool_strides):\n",
    "    \"\"\"\n",
    "    Apply convolution then max pooling to x_tensor\n",
    "    :param x_tensor: TensorFlow Tensor\n",
    "    :param conv_num_outputs: Number of outputs for the convolutional layer\n",
    "    :param conv_strides: Stride 2-D Tuple for convolution\n",
    "    :param pool_ksize: kernal size 2-D Tuple for pool\n",
    "    :param pool_strides: Stride 2-D Tuple for pool\n",
    "    : return: A tensor that represents convolution and max pooling of x_tensor\n",
    "    \"\"\"\n",
    "    # create weight and bias\n",
    "    # The shape of the filter weight is (height, width, input_depth, output_depth)\n",
    "    # The shape of the filter bias is (output_depth,)\n",
    "    input_shape = x_tensor.shape\n",
    "    weight_shape = (*conv_ksize, int(input_shape[3]), conv_num_outputs)\n",
    "    weights = tf.Variable(tf.truncated_normal(weight_shape, mean=0.0, stddev=0.1))\n",
    "    bias = tf.Variable(tf.zeros(conv_num_outputs))\n",
    "\n",
    "    # apply conv2d and add bias    \n",
    "    # need to pad strides with 1\n",
    "    strides = ((1, *conv_strides, 1))\n",
    "    cov = tf.nn.conv2d(x_tensor, weights, strides, padding='SAME') + bias\n",
    "\n",
    "    # nonlinear activation\n",
    "    cov = tf.nn.relu(cov)\n",
    "    \n",
    "    # apply maxpooling\n",
    "    # TODO: Set the ksize (filter size) for each dimension (batch_size, height, width, depth)\n",
    "    ksize = (1, *conv_ksize, 1)\n",
    "    # TODO: Set the stride for each dimension (batch_size, height, width, depth)\n",
    "    stride = (1, *pool_strides, 1)\n",
    "    # TODO: set the padding, either 'VALID' or 'SAME'.\n",
    "    padding = 'SAME'\n",
    "    cov = tf.nn.max_pool(cov, ksize, stride, padding)\n",
    "    \n",
    "    return cov\n",
    "\n",
    "\"\"\"\n",
    "DON'T MODIFY ANYTHING IN THIS CELL THAT IS BELOW THIS LINE\n",
    "\"\"\"\n",
    "tests.test_con_pool(conv2d_maxpool)"
   ]
  },
  {
   "cell_type": "markdown",
   "metadata": {
    "deletable": true,
    "editable": true
   },
   "source": [
    "### Flatten Layer\n",
    "Implement the `flatten` function to change the dimension of `x_tensor` from a 4-D tensor to a 2-D tensor.  The output should be the shape (*Batch Size*, *Flattened Image Size*). You can use [TensorFlow Layers](https://www.tensorflow.org/api_docs/python/tf/layers) or [TensorFlow Layers (contrib)](https://www.tensorflow.org/api_guides/python/contrib.layers) for this layer."
   ]
  },
  {
   "cell_type": "code",
   "execution_count": 16,
   "metadata": {
    "collapsed": false,
    "deletable": true,
    "editable": true
   },
   "outputs": [
    {
     "name": "stdout",
     "output_type": "stream",
     "text": [
      "Tests Passed\n"
     ]
    }
   ],
   "source": [
    "def flatten(x_tensor):\n",
    "    \"\"\"\n",
    "    Flatten x_tensor to (Batch Size, Flattened Image Size)\n",
    "    : x_tensor: A tensor of size (Batch Size, ...), where ... are the image dimensions.\n",
    "    : return: A tensor of size (Batch Size, Flattened Image Size).\n",
    "    \"\"\"\n",
    "    # TODO: Implement Function\n",
    "    return tf.contrib.layers.flatten(x_tensor)\n",
    "\n",
    "\n",
    "\"\"\"\n",
    "DON'T MODIFY ANYTHING IN THIS CELL THAT IS BELOW THIS LINE\n",
    "\"\"\"\n",
    "tests.test_flatten(flatten)"
   ]
  },
  {
   "cell_type": "markdown",
   "metadata": {
    "deletable": true,
    "editable": true
   },
   "source": [
    "### Fully-Connected Layer\n",
    "Implement the `fully_conn` function to apply a fully connected layer to `x_tensor` with the shape (*Batch Size*, *num_outputs*). You can use [TensorFlow Layers](https://www.tensorflow.org/api_docs/python/tf/layers) or [TensorFlow Layers (contrib)](https://www.tensorflow.org/api_guides/python/contrib.layers) for this layer."
   ]
  },
  {
   "cell_type": "code",
   "execution_count": 17,
   "metadata": {
    "collapsed": false,
    "deletable": true,
    "editable": true
   },
   "outputs": [
    {
     "name": "stdout",
     "output_type": "stream",
     "text": [
      "Tests Passed\n"
     ]
    }
   ],
   "source": [
    "def fully_conn(x_tensor, num_outputs):\n",
    "    \"\"\"\n",
    "    Apply a fully connected layer to x_tensor using weight and bias\n",
    "    : x_tensor: A 2-D tensor where the first dimension is batch size.\n",
    "    : num_outputs: The number of output that the new tensor should be.\n",
    "    : return: A 2-D tensor where the second dimension is num_outputs.\n",
    "    \"\"\"\n",
    "    # TODO: Implement Function\n",
    "    return tf.contrib.layers.fully_connected(x_tensor, num_outputs)\n",
    "\n",
    "\n",
    "\"\"\"\n",
    "DON'T MODIFY ANYTHING IN THIS CELL THAT IS BELOW THIS LINE\n",
    "\"\"\"\n",
    "tests.test_fully_conn(fully_conn)"
   ]
  },
  {
   "cell_type": "markdown",
   "metadata": {
    "deletable": true,
    "editable": true
   },
   "source": [
    "### Output Layer\n",
    "Implement the `output` function to apply a fully connected layer to `x_tensor` with the shape (*Batch Size*, *num_outputs*). You can use [TensorFlow Layers](https://www.tensorflow.org/api_docs/python/tf/layers) or [TensorFlow Layers (contrib)](https://www.tensorflow.org/api_guides/python/contrib.layers) for this layer.\n",
    "\n",
    "Note: Activation, softmax, or cross entropy shouldn't be applied to this."
   ]
  },
  {
   "cell_type": "code",
   "execution_count": 18,
   "metadata": {
    "collapsed": false,
    "deletable": true,
    "editable": true
   },
   "outputs": [
    {
     "name": "stdout",
     "output_type": "stream",
     "text": [
      "Tests Passed\n"
     ]
    }
   ],
   "source": [
    "def output(x_tensor, num_outputs):\n",
    "    \"\"\"\n",
    "    Apply a output layer to x_tensor using weight and bias\n",
    "    : x_tensor: A 2-D tensor where the first dimension is batch size.\n",
    "    : num_outputs: The number of output that the new tensor should be.\n",
    "    : return: A 2-D tensor where the second dimension is num_outputs.\n",
    "    \"\"\"\n",
    "    # TODO: Implement Function\n",
    "    return tf.contrib.layers.fully_connected(inputs=x_tensor, num_outputs=num_outputs, activation_fn=None)\n",
    "\n",
    "\n",
    "\"\"\"\n",
    "DON'T MODIFY ANYTHING IN THIS CELL THAT IS BELOW THIS LINE\n",
    "\"\"\"\n",
    "tests.test_output(output)"
   ]
  },
  {
   "cell_type": "markdown",
   "metadata": {
    "deletable": true,
    "editable": true
   },
   "source": [
    "### Create Convolutional Model\n",
    "Implement the function `conv_net` to create a convolutional neural network model. The function takes in a batch of images, `x`, and outputs logits.  Use the layers you created above to create this model:\n",
    "\n",
    "* Apply 1, 2, or 3 Convolution and Max Pool layers\n",
    "* Apply a Flatten Layer\n",
    "* Apply 1, 2, or 3 Fully Connected Layers\n",
    "* Apply an Output Layer\n",
    "* Return the output\n",
    "* Apply [TensorFlow's Dropout](https://www.tensorflow.org/api_docs/python/tf/nn/dropout) to one or more layers in the model using `keep_prob`. "
   ]
  },
  {
   "cell_type": "code",
   "execution_count": 25,
   "metadata": {
    "collapsed": false,
    "deletable": true,
    "editable": true
   },
   "outputs": [
    {
     "name": "stdout",
     "output_type": "stream",
     "text": [
      "Neural Network Built!\n"
     ]
    }
   ],
   "source": [
    "def conv_net(x, keep_prob):\n",
    "    \"\"\"\n",
    "    Create a convolutional neural network model\n",
    "    : x: Placeholder tensor that holds image data.\n",
    "    : keep_prob: Placeholder tensor that hold dropout keep probability.\n",
    "    : return: Tensor that represents logits\n",
    "    \"\"\"\n",
    "    # TODO: Apply 1, 2, or 3 Convolution and Max Pool layers\n",
    "    #    Play around with different number of outputs, kernel size and stride\n",
    "    # Function Definition from Above:\n",
    "    #    conv2d_maxpool(x_tensor, conv_num_outputs, conv_ksize, conv_strides, pool_ksize, pool_strides)\n",
    "    # #outputs = 32; ksize=3; strides=1; maxpool=2\n",
    "    x = conv2d_maxpool(x, 32, (3, 3), (1, 1), (2, 2), (2, 2))\n",
    "    # #outputs = 32; ksize=3; strides=2; maxpool=2\n",
    "    x = conv2d_maxpool(x, 32, (3, 3), (2, 2), (2, 2), (2, 2))\n",
    "    \n",
    "    # TODO: Apply a Flatten Layer\n",
    "    # Function Definition from Above:\n",
    "    #   flatten(x_tensor)\n",
    "    x = flatten(x)\n",
    "    \n",
    "\n",
    "    # TODO: Apply 1, 2, or 3 Fully Connected Layers\n",
    "    #    Play around with different number of outputs\n",
    "    # Function Definition from Above:\n",
    "    #   fully_conn(x_tensor, num_outputs)\n",
    "    x = fully_conn(x, 512)\n",
    "    x = tf.nn.dropout(x, keep_prob)\n",
    "    x = fully_conn(x, 256)\n",
    "    x = tf.nn.dropout(x, keep_prob)\n",
    "    \n",
    "    # TODO: Apply an Output Layer\n",
    "    #    Set this to the number of classes\n",
    "    # Function Definition from Above:\n",
    "    #   output(x_tensor, num_outputs)\n",
    "    x = output(x, 10)\n",
    "    \n",
    "    # TODO: return output\n",
    "    return x\n",
    "\n",
    "\n",
    "\"\"\"\n",
    "DON'T MODIFY ANYTHING IN THIS CELL THAT IS BELOW THIS LINE\n",
    "\"\"\"\n",
    "\n",
    "##############################\n",
    "## Build the Neural Network ##\n",
    "##############################\n",
    "\n",
    "# Remove previous weights, bias, inputs, etc..\n",
    "tf.reset_default_graph()\n",
    "\n",
    "# Inputs\n",
    "x = neural_net_image_input((32, 32, 3))\n",
    "y = neural_net_label_input(10)\n",
    "keep_prob = neural_net_keep_prob_input()\n",
    "\n",
    "# Model\n",
    "logits = conv_net(x, keep_prob)\n",
    "\n",
    "# Name logits Tensor, so that is can be loaded from disk after training\n",
    "logits = tf.identity(logits, name='logits')\n",
    "\n",
    "# Loss and Optimizer\n",
    "cost = tf.reduce_mean(tf.nn.softmax_cross_entropy_with_logits(logits=logits, labels=y))\n",
    "optimizer = tf.train.AdamOptimizer().minimize(cost)\n",
    "\n",
    "# Accuracy\n",
    "correct_pred = tf.equal(tf.argmax(logits, 1), tf.argmax(y, 1))\n",
    "accuracy = tf.reduce_mean(tf.cast(correct_pred, tf.float32), name='accuracy')\n",
    "\n",
    "tests.test_conv_net(conv_net)"
   ]
  },
  {
   "cell_type": "markdown",
   "metadata": {
    "deletable": true,
    "editable": true
   },
   "source": [
    "## Train the Neural Network\n",
    "### Single Optimization\n",
    "Implement the function `train_neural_network` to do a single optimization.  The optimization should use `optimizer` to optimize in `session` with a `feed_dict` of the following:\n",
    "* `x` for image input\n",
    "* `y` for labels\n",
    "* `keep_prob` for keep probability for dropout\n",
    "\n",
    "This function will be called for each batch, so `tf.global_variables_initializer()` has already been called.\n",
    "\n",
    "Note: Nothing needs to be returned. This function is only optimizing the neural network."
   ]
  },
  {
   "cell_type": "code",
   "execution_count": 26,
   "metadata": {
    "collapsed": false,
    "deletable": true,
    "editable": true
   },
   "outputs": [
    {
     "name": "stdout",
     "output_type": "stream",
     "text": [
      "Tests Passed\n"
     ]
    }
   ],
   "source": [
    "def train_neural_network(session, optimizer, keep_probability, feature_batch, label_batch):\n",
    "    \"\"\"\n",
    "    Optimize the session on a batch of images and labels\n",
    "    : session: Current TensorFlow session\n",
    "    : optimizer: TensorFlow optimizer function\n",
    "    : keep_probability: keep probability\n",
    "    : feature_batch: Batch of Numpy image data\n",
    "    : label_batch: Batch of Numpy label data\n",
    "    \"\"\"\n",
    "    # TODO: Implement Function\n",
    "    session.run(optimizer, feed_dict={\n",
    "        x: feature_batch,\n",
    "        y: label_batch,\n",
    "        keep_prob: keep_probability\n",
    "    })\n",
    "\n",
    "\n",
    "\"\"\"\n",
    "DON'T MODIFY ANYTHING IN THIS CELL THAT IS BELOW THIS LINE\n",
    "\"\"\"\n",
    "tests.test_train_nn(train_neural_network)"
   ]
  },
  {
   "cell_type": "markdown",
   "metadata": {
    "deletable": true,
    "editable": true
   },
   "source": [
    "### Show Stats\n",
    "Implement the function `print_stats` to print loss and validation accuracy.  Use the global variables `valid_features` and `valid_labels` to calculate validation accuracy.  Use a keep probability of `1.0` to calculate the loss and validation accuracy."
   ]
  },
  {
   "cell_type": "code",
   "execution_count": 27,
   "metadata": {
    "collapsed": false,
    "deletable": true,
    "editable": true
   },
   "outputs": [],
   "source": [
    "def print_stats(session, feature_batch, label_batch, cost, accuracy):\n",
    "    \"\"\"\n",
    "    Print information about loss and validation accuracy\n",
    "    : session: Current TensorFlow session\n",
    "    : feature_batch: Batch of Numpy image data\n",
    "    : label_batch: Batch of Numpy label data\n",
    "    : cost: TensorFlow cost function\n",
    "    : accuracy: TensorFlow accuracy function\n",
    "    \"\"\"\n",
    "    # TODO: Implement Function\n",
    "    loss = session.run(cost, feed_dict={\n",
    "        x: feature_batch,\n",
    "        y: label_batch,\n",
    "        keep_prob: 1.\n",
    "    })\n",
    "    \n",
    "    valid_accuracy = session.run(accuracy, feed_dict={\n",
    "        x: valid_features,\n",
    "        y: valid_labels,\n",
    "        keep_prob: 1.\n",
    "    })\n",
    "    \n",
    "    print('Loss: {:>10.4f} Validation Accuracy: {:.6f}'.format(loss, valid_accuracy))\n"
   ]
  },
  {
   "cell_type": "markdown",
   "metadata": {
    "deletable": true,
    "editable": true
   },
   "source": [
    "### Hyperparameters\n",
    "Tune the following parameters:\n",
    "* Set `epochs` to the number of iterations until the network stops learning or start overfitting\n",
    "* Set `batch_size` to the highest number that your machine has memory for.  Most people set them to common sizes of memory:\n",
    " * 64\n",
    " * 128\n",
    " * 256\n",
    " * ...\n",
    "* Set `keep_probability` to the probability of keeping a node using dropout"
   ]
  },
  {
   "cell_type": "code",
   "execution_count": 30,
   "metadata": {
    "collapsed": true,
    "deletable": true,
    "editable": true
   },
   "outputs": [],
   "source": [
    "# TODO: Tune Parameters\n",
    "\n",
    "epochs = 40\n",
    "batch_size = 256\n",
    "keep_probability = 0.5"
   ]
  },
  {
   "cell_type": "markdown",
   "metadata": {
    "deletable": true,
    "editable": true
   },
   "source": [
    "### Train on a Single CIFAR-10 Batch\n",
    "Instead of training the neural network on all the CIFAR-10 batches of data, let's use a single batch. This should save time while you iterate on the model to get a better accuracy.  Once the final validation accuracy is 50% or greater, run the model on all the data in the next section."
   ]
  },
  {
   "cell_type": "code",
   "execution_count": 31,
   "metadata": {
    "collapsed": false,
    "deletable": true,
    "editable": true
   },
   "outputs": [
    {
     "name": "stdout",
     "output_type": "stream",
     "text": [
      "Checking the Training on a Single Batch...\n",
      "Epoch  1, CIFAR-10 Batch 1:  Loss:     1.9996 Validation Accuracy: 0.280000\n",
      "Epoch  2, CIFAR-10 Batch 1:  Loss:     1.7368 Validation Accuracy: 0.387400\n",
      "Epoch  3, CIFAR-10 Batch 1:  Loss:     1.5558 Validation Accuracy: 0.420800\n",
      "Epoch  4, CIFAR-10 Batch 1:  Loss:     1.4318 Validation Accuracy: 0.451200\n",
      "Epoch  5, CIFAR-10 Batch 1:  Loss:     1.2524 Validation Accuracy: 0.492000\n",
      "Epoch  6, CIFAR-10 Batch 1:  Loss:     1.1413 Validation Accuracy: 0.501200\n",
      "Epoch  7, CIFAR-10 Batch 1:  Loss:     1.0269 Validation Accuracy: 0.528800\n",
      "Epoch  8, CIFAR-10 Batch 1:  Loss:     0.9517 Validation Accuracy: 0.544800\n",
      "Epoch  9, CIFAR-10 Batch 1:  Loss:     0.8883 Validation Accuracy: 0.542200\n",
      "Epoch 10, CIFAR-10 Batch 1:  Loss:     0.8197 Validation Accuracy: 0.548000\n",
      "Epoch 11, CIFAR-10 Batch 1:  Loss:     0.7640 Validation Accuracy: 0.563800\n",
      "Epoch 12, CIFAR-10 Batch 1:  Loss:     0.7087 Validation Accuracy: 0.563400\n",
      "Epoch 13, CIFAR-10 Batch 1:  Loss:     0.6435 Validation Accuracy: 0.555000\n",
      "Epoch 14, CIFAR-10 Batch 1:  Loss:     0.6292 Validation Accuracy: 0.570800\n",
      "Epoch 15, CIFAR-10 Batch 1:  Loss:     0.5710 Validation Accuracy: 0.574400\n",
      "Epoch 16, CIFAR-10 Batch 1:  Loss:     0.5575 Validation Accuracy: 0.579000\n",
      "Epoch 17, CIFAR-10 Batch 1:  Loss:     0.4800 Validation Accuracy: 0.580600\n",
      "Epoch 18, CIFAR-10 Batch 1:  Loss:     0.4544 Validation Accuracy: 0.596000\n",
      "Epoch 19, CIFAR-10 Batch 1:  Loss:     0.4041 Validation Accuracy: 0.594000\n",
      "Epoch 20, CIFAR-10 Batch 1:  Loss:     0.3549 Validation Accuracy: 0.597200\n",
      "Epoch 21, CIFAR-10 Batch 1:  Loss:     0.3440 Validation Accuracy: 0.594400\n",
      "Epoch 22, CIFAR-10 Batch 1:  Loss:     0.3448 Validation Accuracy: 0.586200\n",
      "Epoch 23, CIFAR-10 Batch 1:  Loss:     0.3108 Validation Accuracy: 0.591400\n",
      "Epoch 24, CIFAR-10 Batch 1:  Loss:     0.2900 Validation Accuracy: 0.597000\n",
      "Epoch 25, CIFAR-10 Batch 1:  Loss:     0.2554 Validation Accuracy: 0.583400\n",
      "Epoch 26, CIFAR-10 Batch 1:  Loss:     0.2457 Validation Accuracy: 0.595800\n",
      "Epoch 27, CIFAR-10 Batch 1:  Loss:     0.2224 Validation Accuracy: 0.594800\n",
      "Epoch 28, CIFAR-10 Batch 1:  Loss:     0.2086 Validation Accuracy: 0.603200\n",
      "Epoch 29, CIFAR-10 Batch 1:  Loss:     0.1846 Validation Accuracy: 0.595600\n",
      "Epoch 30, CIFAR-10 Batch 1:  Loss:     0.1782 Validation Accuracy: 0.592400\n",
      "Epoch 31, CIFAR-10 Batch 1:  Loss:     0.1745 Validation Accuracy: 0.588600\n",
      "Epoch 32, CIFAR-10 Batch 1:  Loss:     0.1597 Validation Accuracy: 0.587000\n",
      "Epoch 33, CIFAR-10 Batch 1:  Loss:     0.1425 Validation Accuracy: 0.592600\n",
      "Epoch 34, CIFAR-10 Batch 1:  Loss:     0.1443 Validation Accuracy: 0.598400\n",
      "Epoch 35, CIFAR-10 Batch 1:  Loss:     0.1097 Validation Accuracy: 0.605200\n",
      "Epoch 36, CIFAR-10 Batch 1:  Loss:     0.0941 Validation Accuracy: 0.607200\n",
      "Epoch 37, CIFAR-10 Batch 1:  Loss:     0.0828 Validation Accuracy: 0.614000\n",
      "Epoch 38, CIFAR-10 Batch 1:  Loss:     0.0825 Validation Accuracy: 0.610800\n",
      "Epoch 39, CIFAR-10 Batch 1:  Loss:     0.0667 Validation Accuracy: 0.615200\n",
      "Epoch 40, CIFAR-10 Batch 1:  Loss:     0.0676 Validation Accuracy: 0.619600\n"
     ]
    }
   ],
   "source": [
    "\"\"\"\n",
    "DON'T MODIFY ANYTHING IN THIS CELL\n",
    "\"\"\"\n",
    "print('Checking the Training on a Single Batch...')\n",
    "with tf.Session() as sess:\n",
    "    # Initializing the variables\n",
    "    sess.run(tf.global_variables_initializer())\n",
    "    \n",
    "    # Training cycle\n",
    "    for epoch in range(epochs):\n",
    "        batch_i = 1\n",
    "        for batch_features, batch_labels in helper.load_preprocess_training_batch(batch_i, batch_size):\n",
    "            train_neural_network(sess, optimizer, keep_probability, batch_features, batch_labels)\n",
    "        print('Epoch {:>2}, CIFAR-10 Batch {}:  '.format(epoch + 1, batch_i), end='')\n",
    "        print_stats(sess, batch_features, batch_labels, cost, accuracy)"
   ]
  },
  {
   "cell_type": "markdown",
   "metadata": {
    "deletable": true,
    "editable": true
   },
   "source": [
    "### Fully Train the Model\n",
    "Now that you got a good accuracy with a single CIFAR-10 batch, try it with all five batches."
   ]
  },
  {
   "cell_type": "code",
   "execution_count": 32,
   "metadata": {
    "collapsed": false,
    "deletable": true,
    "editable": true
   },
   "outputs": [
    {
     "name": "stdout",
     "output_type": "stream",
     "text": [
      "Training...\n",
      "Epoch  1, CIFAR-10 Batch 1:  Loss:     2.0578 Validation Accuracy: 0.325800\n",
      "Epoch  1, CIFAR-10 Batch 2:  Loss:     1.6409 Validation Accuracy: 0.362000\n",
      "Epoch  1, CIFAR-10 Batch 3:  Loss:     1.5399 Validation Accuracy: 0.418200\n",
      "Epoch  1, CIFAR-10 Batch 4:  Loss:     1.5383 Validation Accuracy: 0.461400\n",
      "Epoch  1, CIFAR-10 Batch 5:  Loss:     1.4080 Validation Accuracy: 0.482800\n",
      "Epoch  2, CIFAR-10 Batch 1:  Loss:     1.5051 Validation Accuracy: 0.507800\n",
      "Epoch  2, CIFAR-10 Batch 2:  Loss:     1.3363 Validation Accuracy: 0.517800\n",
      "Epoch  2, CIFAR-10 Batch 3:  Loss:     1.1671 Validation Accuracy: 0.517400\n",
      "Epoch  2, CIFAR-10 Batch 4:  Loss:     1.1453 Validation Accuracy: 0.544800\n",
      "Epoch  2, CIFAR-10 Batch 5:  Loss:     1.2730 Validation Accuracy: 0.530200\n",
      "Epoch  3, CIFAR-10 Batch 1:  Loss:     1.2447 Validation Accuracy: 0.566800\n",
      "Epoch  3, CIFAR-10 Batch 2:  Loss:     1.0760 Validation Accuracy: 0.558000\n",
      "Epoch  3, CIFAR-10 Batch 3:  Loss:     0.9908 Validation Accuracy: 0.562000\n",
      "Epoch  3, CIFAR-10 Batch 4:  Loss:     0.9472 Validation Accuracy: 0.578000\n",
      "Epoch  3, CIFAR-10 Batch 5:  Loss:     1.0528 Validation Accuracy: 0.570600\n",
      "Epoch  4, CIFAR-10 Batch 1:  Loss:     1.1481 Validation Accuracy: 0.594800\n",
      "Epoch  4, CIFAR-10 Batch 2:  Loss:     0.9248 Validation Accuracy: 0.587400\n",
      "Epoch  4, CIFAR-10 Batch 3:  Loss:     0.8202 Validation Accuracy: 0.583200\n",
      "Epoch  4, CIFAR-10 Batch 4:  Loss:     0.8479 Validation Accuracy: 0.606200\n",
      "Epoch  4, CIFAR-10 Batch 5:  Loss:     0.9218 Validation Accuracy: 0.603000\n",
      "Epoch  5, CIFAR-10 Batch 1:  Loss:     1.0746 Validation Accuracy: 0.607200\n",
      "Epoch  5, CIFAR-10 Batch 2:  Loss:     0.7747 Validation Accuracy: 0.597000\n",
      "Epoch  5, CIFAR-10 Batch 3:  Loss:     0.6954 Validation Accuracy: 0.601600\n",
      "Epoch  5, CIFAR-10 Batch 4:  Loss:     0.7351 Validation Accuracy: 0.622200\n",
      "Epoch  5, CIFAR-10 Batch 5:  Loss:     0.7635 Validation Accuracy: 0.624600\n",
      "Epoch  6, CIFAR-10 Batch 1:  Loss:     0.9117 Validation Accuracy: 0.632800\n",
      "Epoch  6, CIFAR-10 Batch 2:  Loss:     0.7053 Validation Accuracy: 0.626600\n",
      "Epoch  6, CIFAR-10 Batch 3:  Loss:     0.6004 Validation Accuracy: 0.626400\n",
      "Epoch  6, CIFAR-10 Batch 4:  Loss:     0.6070 Validation Accuracy: 0.644000\n",
      "Epoch  6, CIFAR-10 Batch 5:  Loss:     0.6368 Validation Accuracy: 0.641800\n",
      "Epoch  7, CIFAR-10 Batch 1:  Loss:     0.8543 Validation Accuracy: 0.638600\n",
      "Epoch  7, CIFAR-10 Batch 2:  Loss:     0.6484 Validation Accuracy: 0.627400\n",
      "Epoch  7, CIFAR-10 Batch 3:  Loss:     0.5080 Validation Accuracy: 0.651000\n",
      "Epoch  7, CIFAR-10 Batch 4:  Loss:     0.5652 Validation Accuracy: 0.650400\n",
      "Epoch  7, CIFAR-10 Batch 5:  Loss:     0.5534 Validation Accuracy: 0.661200\n",
      "Epoch  8, CIFAR-10 Batch 1:  Loss:     0.7812 Validation Accuracy: 0.658000\n",
      "Epoch  8, CIFAR-10 Batch 2:  Loss:     0.5674 Validation Accuracy: 0.645200\n",
      "Epoch  8, CIFAR-10 Batch 3:  Loss:     0.4095 Validation Accuracy: 0.653200\n",
      "Epoch  8, CIFAR-10 Batch 4:  Loss:     0.4901 Validation Accuracy: 0.658800\n",
      "Epoch  8, CIFAR-10 Batch 5:  Loss:     0.4742 Validation Accuracy: 0.676400\n",
      "Epoch  9, CIFAR-10 Batch 1:  Loss:     0.7315 Validation Accuracy: 0.672600\n",
      "Epoch  9, CIFAR-10 Batch 2:  Loss:     0.4972 Validation Accuracy: 0.659400\n",
      "Epoch  9, CIFAR-10 Batch 3:  Loss:     0.4023 Validation Accuracy: 0.672200\n",
      "Epoch  9, CIFAR-10 Batch 4:  Loss:     0.4431 Validation Accuracy: 0.669000\n",
      "Epoch  9, CIFAR-10 Batch 5:  Loss:     0.4310 Validation Accuracy: 0.669000\n",
      "Epoch 10, CIFAR-10 Batch 1:  Loss:     0.6371 Validation Accuracy: 0.670000\n",
      "Epoch 10, CIFAR-10 Batch 2:  Loss:     0.4680 Validation Accuracy: 0.674600\n",
      "Epoch 10, CIFAR-10 Batch 3:  Loss:     0.3700 Validation Accuracy: 0.672000\n",
      "Epoch 10, CIFAR-10 Batch 4:  Loss:     0.4458 Validation Accuracy: 0.677200\n",
      "Epoch 10, CIFAR-10 Batch 5:  Loss:     0.3501 Validation Accuracy: 0.682400\n",
      "Epoch 11, CIFAR-10 Batch 1:  Loss:     0.5872 Validation Accuracy: 0.677800\n",
      "Epoch 11, CIFAR-10 Batch 2:  Loss:     0.4331 Validation Accuracy: 0.680200\n",
      "Epoch 11, CIFAR-10 Batch 3:  Loss:     0.3213 Validation Accuracy: 0.684200\n",
      "Epoch 11, CIFAR-10 Batch 4:  Loss:     0.3952 Validation Accuracy: 0.677800\n",
      "Epoch 11, CIFAR-10 Batch 5:  Loss:     0.3106 Validation Accuracy: 0.688600\n",
      "Epoch 12, CIFAR-10 Batch 1:  Loss:     0.5503 Validation Accuracy: 0.684600\n",
      "Epoch 12, CIFAR-10 Batch 2:  Loss:     0.3989 Validation Accuracy: 0.679400\n",
      "Epoch 12, CIFAR-10 Batch 3:  Loss:     0.3125 Validation Accuracy: 0.681400\n",
      "Epoch 12, CIFAR-10 Batch 4:  Loss:     0.3362 Validation Accuracy: 0.686000\n",
      "Epoch 12, CIFAR-10 Batch 5:  Loss:     0.2642 Validation Accuracy: 0.688600\n",
      "Epoch 13, CIFAR-10 Batch 1:  Loss:     0.4912 Validation Accuracy: 0.690400\n",
      "Epoch 13, CIFAR-10 Batch 2:  Loss:     0.3345 Validation Accuracy: 0.680000\n",
      "Epoch 13, CIFAR-10 Batch 3:  Loss:     0.2728 Validation Accuracy: 0.697000\n",
      "Epoch 13, CIFAR-10 Batch 4:  Loss:     0.3293 Validation Accuracy: 0.680200\n",
      "Epoch 13, CIFAR-10 Batch 5:  Loss:     0.2723 Validation Accuracy: 0.693200\n",
      "Epoch 14, CIFAR-10 Batch 1:  Loss:     0.4379 Validation Accuracy: 0.698200\n",
      "Epoch 14, CIFAR-10 Batch 2:  Loss:     0.3535 Validation Accuracy: 0.691000\n",
      "Epoch 14, CIFAR-10 Batch 3:  Loss:     0.2646 Validation Accuracy: 0.692600\n",
      "Epoch 14, CIFAR-10 Batch 4:  Loss:     0.2731 Validation Accuracy: 0.701000\n",
      "Epoch 14, CIFAR-10 Batch 5:  Loss:     0.2417 Validation Accuracy: 0.691400\n",
      "Epoch 15, CIFAR-10 Batch 1:  Loss:     0.4066 Validation Accuracy: 0.688600\n",
      "Epoch 15, CIFAR-10 Batch 2:  Loss:     0.2738 Validation Accuracy: 0.698400\n",
      "Epoch 15, CIFAR-10 Batch 3:  Loss:     0.2360 Validation Accuracy: 0.701000\n",
      "Epoch 15, CIFAR-10 Batch 4:  Loss:     0.2519 Validation Accuracy: 0.696800\n",
      "Epoch 15, CIFAR-10 Batch 5:  Loss:     0.2283 Validation Accuracy: 0.697400\n",
      "Epoch 16, CIFAR-10 Batch 1:  Loss:     0.3764 Validation Accuracy: 0.695200\n",
      "Epoch 16, CIFAR-10 Batch 2:  Loss:     0.2864 Validation Accuracy: 0.703800\n",
      "Epoch 16, CIFAR-10 Batch 3:  Loss:     0.2240 Validation Accuracy: 0.697400\n",
      "Epoch 16, CIFAR-10 Batch 4:  Loss:     0.2462 Validation Accuracy: 0.703200\n",
      "Epoch 16, CIFAR-10 Batch 5:  Loss:     0.2200 Validation Accuracy: 0.702200\n",
      "Epoch 17, CIFAR-10 Batch 1:  Loss:     0.3351 Validation Accuracy: 0.699800\n",
      "Epoch 17, CIFAR-10 Batch 2:  Loss:     0.2791 Validation Accuracy: 0.695000\n",
      "Epoch 17, CIFAR-10 Batch 3:  Loss:     0.1995 Validation Accuracy: 0.702000\n",
      "Epoch 17, CIFAR-10 Batch 4:  Loss:     0.2136 Validation Accuracy: 0.695400\n",
      "Epoch 17, CIFAR-10 Batch 5:  Loss:     0.2080 Validation Accuracy: 0.698600\n",
      "Epoch 18, CIFAR-10 Batch 1:  Loss:     0.3010 Validation Accuracy: 0.701800\n",
      "Epoch 18, CIFAR-10 Batch 2:  Loss:     0.2210 Validation Accuracy: 0.708600\n",
      "Epoch 18, CIFAR-10 Batch 3:  Loss:     0.1975 Validation Accuracy: 0.704000\n",
      "Epoch 18, CIFAR-10 Batch 4:  Loss:     0.1928 Validation Accuracy: 0.713000\n",
      "Epoch 18, CIFAR-10 Batch 5:  Loss:     0.1715 Validation Accuracy: 0.711400\n",
      "Epoch 19, CIFAR-10 Batch 1:  Loss:     0.2829 Validation Accuracy: 0.704200\n",
      "Epoch 19, CIFAR-10 Batch 2:  Loss:     0.1928 Validation Accuracy: 0.711800\n",
      "Epoch 19, CIFAR-10 Batch 3:  Loss:     0.1689 Validation Accuracy: 0.704400\n",
      "Epoch 19, CIFAR-10 Batch 4:  Loss:     0.1796 Validation Accuracy: 0.715400\n",
      "Epoch 19, CIFAR-10 Batch 5:  Loss:     0.1582 Validation Accuracy: 0.711200\n",
      "Epoch 20, CIFAR-10 Batch 1:  Loss:     0.2573 Validation Accuracy: 0.716000\n",
      "Epoch 20, CIFAR-10 Batch 2:  Loss:     0.1719 Validation Accuracy: 0.706800\n",
      "Epoch 20, CIFAR-10 Batch 3:  Loss:     0.1498 Validation Accuracy: 0.706600\n",
      "Epoch 20, CIFAR-10 Batch 4:  Loss:     0.1787 Validation Accuracy: 0.714600\n",
      "Epoch 20, CIFAR-10 Batch 5:  Loss:     0.1395 Validation Accuracy: 0.715200\n",
      "Epoch 21, CIFAR-10 Batch 1:  Loss:     0.2484 Validation Accuracy: 0.714200\n",
      "Epoch 21, CIFAR-10 Batch 2:  Loss:     0.1603 Validation Accuracy: 0.704000\n",
      "Epoch 21, CIFAR-10 Batch 3:  Loss:     0.1369 Validation Accuracy: 0.716000\n",
      "Epoch 21, CIFAR-10 Batch 4:  Loss:     0.1652 Validation Accuracy: 0.717600\n",
      "Epoch 21, CIFAR-10 Batch 5:  Loss:     0.0999 Validation Accuracy: 0.719400\n",
      "Epoch 22, CIFAR-10 Batch 1:  Loss:     0.2149 Validation Accuracy: 0.718200\n",
      "Epoch 22, CIFAR-10 Batch 2:  Loss:     0.1529 Validation Accuracy: 0.704600\n",
      "Epoch 22, CIFAR-10 Batch 3:  Loss:     0.1514 Validation Accuracy: 0.714800\n",
      "Epoch 22, CIFAR-10 Batch 4:  Loss:     0.1575 Validation Accuracy: 0.722200\n",
      "Epoch 22, CIFAR-10 Batch 5:  Loss:     0.1148 Validation Accuracy: 0.717200\n",
      "Epoch 23, CIFAR-10 Batch 1:  Loss:     0.2038 Validation Accuracy: 0.723200\n",
      "Epoch 23, CIFAR-10 Batch 2:  Loss:     0.1438 Validation Accuracy: 0.717200\n",
      "Epoch 23, CIFAR-10 Batch 3:  Loss:     0.1237 Validation Accuracy: 0.709800\n",
      "Epoch 23, CIFAR-10 Batch 4:  Loss:     0.1497 Validation Accuracy: 0.723600\n",
      "Epoch 23, CIFAR-10 Batch 5:  Loss:     0.1130 Validation Accuracy: 0.718200\n",
      "Epoch 24, CIFAR-10 Batch 1:  Loss:     0.2192 Validation Accuracy: 0.722200\n",
      "Epoch 24, CIFAR-10 Batch 2:  Loss:     0.1426 Validation Accuracy: 0.716600\n",
      "Epoch 24, CIFAR-10 Batch 3:  Loss:     0.1284 Validation Accuracy: 0.717400\n",
      "Epoch 24, CIFAR-10 Batch 4:  Loss:     0.1421 Validation Accuracy: 0.729600\n",
      "Epoch 24, CIFAR-10 Batch 5:  Loss:     0.0945 Validation Accuracy: 0.716400\n",
      "Epoch 25, CIFAR-10 Batch 1:  Loss:     0.1642 Validation Accuracy: 0.728200\n",
      "Epoch 25, CIFAR-10 Batch 2:  Loss:     0.1482 Validation Accuracy: 0.702000\n",
      "Epoch 25, CIFAR-10 Batch 3:  Loss:     0.1456 Validation Accuracy: 0.708600\n",
      "Epoch 25, CIFAR-10 Batch 4:  Loss:     0.1214 Validation Accuracy: 0.728800\n",
      "Epoch 25, CIFAR-10 Batch 5:  Loss:     0.0826 Validation Accuracy: 0.725200\n",
      "Epoch 26, CIFAR-10 Batch 1:  Loss:     0.1863 Validation Accuracy: 0.728600\n",
      "Epoch 26, CIFAR-10 Batch 2:  Loss:     0.1585 Validation Accuracy: 0.706000\n",
      "Epoch 26, CIFAR-10 Batch 3:  Loss:     0.1179 Validation Accuracy: 0.716600\n",
      "Epoch 26, CIFAR-10 Batch 4:  Loss:     0.1291 Validation Accuracy: 0.726800\n",
      "Epoch 26, CIFAR-10 Batch 5:  Loss:     0.0818 Validation Accuracy: 0.727000\n",
      "Epoch 27, CIFAR-10 Batch 1:  Loss:     0.1684 Validation Accuracy: 0.732000\n",
      "Epoch 27, CIFAR-10 Batch 2:  Loss:     0.1168 Validation Accuracy: 0.717200\n",
      "Epoch 27, CIFAR-10 Batch 3:  Loss:     0.1196 Validation Accuracy: 0.709200\n",
      "Epoch 27, CIFAR-10 Batch 4:  Loss:     0.1261 Validation Accuracy: 0.724600\n",
      "Epoch 27, CIFAR-10 Batch 5:  Loss:     0.0771 Validation Accuracy: 0.726000\n",
      "Epoch 28, CIFAR-10 Batch 1:  Loss:     0.1645 Validation Accuracy: 0.728200\n",
      "Epoch 28, CIFAR-10 Batch 2:  Loss:     0.1281 Validation Accuracy: 0.710800\n",
      "Epoch 28, CIFAR-10 Batch 3:  Loss:     0.1229 Validation Accuracy: 0.709000\n",
      "Epoch 28, CIFAR-10 Batch 4:  Loss:     0.1074 Validation Accuracy: 0.723400\n",
      "Epoch 28, CIFAR-10 Batch 5:  Loss:     0.0594 Validation Accuracy: 0.725200\n",
      "Epoch 29, CIFAR-10 Batch 1:  Loss:     0.1214 Validation Accuracy: 0.730400\n",
      "Epoch 29, CIFAR-10 Batch 2:  Loss:     0.1166 Validation Accuracy: 0.704200\n",
      "Epoch 29, CIFAR-10 Batch 3:  Loss:     0.1292 Validation Accuracy: 0.706200\n",
      "Epoch 29, CIFAR-10 Batch 4:  Loss:     0.1411 Validation Accuracy: 0.719800\n",
      "Epoch 29, CIFAR-10 Batch 5:  Loss:     0.0665 Validation Accuracy: 0.736000\n",
      "Epoch 30, CIFAR-10 Batch 1:  Loss:     0.1105 Validation Accuracy: 0.729400\n",
      "Epoch 30, CIFAR-10 Batch 2:  Loss:     0.1045 Validation Accuracy: 0.719000\n",
      "Epoch 30, CIFAR-10 Batch 3:  Loss:     0.0993 Validation Accuracy: 0.721000\n",
      "Epoch 30, CIFAR-10 Batch 4:  Loss:     0.1275 Validation Accuracy: 0.728800\n",
      "Epoch 30, CIFAR-10 Batch 5:  Loss:     0.0601 Validation Accuracy: 0.730200\n",
      "Epoch 31, CIFAR-10 Batch 1:  Loss:     0.1023 Validation Accuracy: 0.728800\n",
      "Epoch 31, CIFAR-10 Batch 2:  Loss:     0.1331 Validation Accuracy: 0.715400\n",
      "Epoch 31, CIFAR-10 Batch 3:  Loss:     0.0788 Validation Accuracy: 0.732000\n",
      "Epoch 31, CIFAR-10 Batch 4:  Loss:     0.1165 Validation Accuracy: 0.724000\n",
      "Epoch 31, CIFAR-10 Batch 5:  Loss:     0.0621 Validation Accuracy: 0.729200\n",
      "Epoch 32, CIFAR-10 Batch 1:  Loss:     0.1067 Validation Accuracy: 0.732000\n",
      "Epoch 32, CIFAR-10 Batch 2:  Loss:     0.1115 Validation Accuracy: 0.725400\n",
      "Epoch 32, CIFAR-10 Batch 3:  Loss:     0.0970 Validation Accuracy: 0.726200\n",
      "Epoch 32, CIFAR-10 Batch 4:  Loss:     0.0904 Validation Accuracy: 0.731400\n",
      "Epoch 32, CIFAR-10 Batch 5:  Loss:     0.0569 Validation Accuracy: 0.734200\n",
      "Epoch 33, CIFAR-10 Batch 1:  Loss:     0.0920 Validation Accuracy: 0.731000\n",
      "Epoch 33, CIFAR-10 Batch 2:  Loss:     0.1022 Validation Accuracy: 0.723400\n",
      "Epoch 33, CIFAR-10 Batch 3:  Loss:     0.0825 Validation Accuracy: 0.724600\n",
      "Epoch 33, CIFAR-10 Batch 4:  Loss:     0.0910 Validation Accuracy: 0.732400\n",
      "Epoch 33, CIFAR-10 Batch 5:  Loss:     0.0493 Validation Accuracy: 0.737400\n",
      "Epoch 34, CIFAR-10 Batch 1:  Loss:     0.0913 Validation Accuracy: 0.728400\n",
      "Epoch 34, CIFAR-10 Batch 2:  Loss:     0.0769 Validation Accuracy: 0.732200\n",
      "Epoch 34, CIFAR-10 Batch 3:  Loss:     0.0808 Validation Accuracy: 0.720000\n",
      "Epoch 34, CIFAR-10 Batch 4:  Loss:     0.0793 Validation Accuracy: 0.729400\n",
      "Epoch 34, CIFAR-10 Batch 5:  Loss:     0.0519 Validation Accuracy: 0.737400\n",
      "Epoch 35, CIFAR-10 Batch 1:  Loss:     0.0927 Validation Accuracy: 0.731600\n",
      "Epoch 35, CIFAR-10 Batch 2:  Loss:     0.0891 Validation Accuracy: 0.718800\n",
      "Epoch 35, CIFAR-10 Batch 3:  Loss:     0.0680 Validation Accuracy: 0.732000\n",
      "Epoch 35, CIFAR-10 Batch 4:  Loss:     0.0766 Validation Accuracy: 0.731600\n",
      "Epoch 35, CIFAR-10 Batch 5:  Loss:     0.0420 Validation Accuracy: 0.739000\n",
      "Epoch 36, CIFAR-10 Batch 1:  Loss:     0.1027 Validation Accuracy: 0.731000\n",
      "Epoch 36, CIFAR-10 Batch 2:  Loss:     0.0844 Validation Accuracy: 0.724600\n",
      "Epoch 36, CIFAR-10 Batch 3:  Loss:     0.0703 Validation Accuracy: 0.720800\n",
      "Epoch 36, CIFAR-10 Batch 4:  Loss:     0.0733 Validation Accuracy: 0.726600\n",
      "Epoch 36, CIFAR-10 Batch 5:  Loss:     0.0578 Validation Accuracy: 0.721600\n",
      "Epoch 37, CIFAR-10 Batch 1:  Loss:     0.1082 Validation Accuracy: 0.729200\n",
      "Epoch 37, CIFAR-10 Batch 2:  Loss:     0.0845 Validation Accuracy: 0.716200\n",
      "Epoch 37, CIFAR-10 Batch 3:  Loss:     0.0720 Validation Accuracy: 0.722600\n",
      "Epoch 37, CIFAR-10 Batch 4:  Loss:     0.0795 Validation Accuracy: 0.723600\n",
      "Epoch 37, CIFAR-10 Batch 5:  Loss:     0.0529 Validation Accuracy: 0.734400\n",
      "Epoch 38, CIFAR-10 Batch 1:  Loss:     0.1379 Validation Accuracy: 0.722400\n",
      "Epoch 38, CIFAR-10 Batch 2:  Loss:     0.0904 Validation Accuracy: 0.722000\n",
      "Epoch 38, CIFAR-10 Batch 3:  Loss:     0.0748 Validation Accuracy: 0.726200\n",
      "Epoch 38, CIFAR-10 Batch 4:  Loss:     0.0866 Validation Accuracy: 0.733000\n",
      "Epoch 38, CIFAR-10 Batch 5:  Loss:     0.0508 Validation Accuracy: 0.734400\n",
      "Epoch 39, CIFAR-10 Batch 1:  Loss:     0.1193 Validation Accuracy: 0.724200\n",
      "Epoch 39, CIFAR-10 Batch 2:  Loss:     0.0894 Validation Accuracy: 0.718400\n",
      "Epoch 39, CIFAR-10 Batch 3:  Loss:     0.0568 Validation Accuracy: 0.724200\n",
      "Epoch 39, CIFAR-10 Batch 4:  Loss:     0.0650 Validation Accuracy: 0.728000\n",
      "Epoch 39, CIFAR-10 Batch 5:  Loss:     0.0398 Validation Accuracy: 0.726600\n",
      "Epoch 40, CIFAR-10 Batch 1:  Loss:     0.0850 Validation Accuracy: 0.734000\n",
      "Epoch 40, CIFAR-10 Batch 2:  Loss:     0.0584 Validation Accuracy: 0.718600\n",
      "Epoch 40, CIFAR-10 Batch 3:  Loss:     0.0662 Validation Accuracy: 0.731400\n",
      "Epoch 40, CIFAR-10 Batch 4:  Loss:     0.0761 Validation Accuracy: 0.718800\n",
      "Epoch 40, CIFAR-10 Batch 5:  Loss:     0.0412 Validation Accuracy: 0.713600\n"
     ]
    }
   ],
   "source": [
    "\"\"\"\n",
    "DON'T MODIFY ANYTHING IN THIS CELL\n",
    "\"\"\"\n",
    "save_model_path = './image_classification'\n",
    "\n",
    "print('Training...')\n",
    "with tf.Session() as sess:\n",
    "    # Initializing the variables\n",
    "    sess.run(tf.global_variables_initializer())\n",
    "    \n",
    "    # Training cycle\n",
    "    for epoch in range(epochs):\n",
    "        # Loop over all batches\n",
    "        n_batches = 5\n",
    "        for batch_i in range(1, n_batches + 1):\n",
    "            for batch_features, batch_labels in helper.load_preprocess_training_batch(batch_i, batch_size):\n",
    "                train_neural_network(sess, optimizer, keep_probability, batch_features, batch_labels)\n",
    "            print('Epoch {:>2}, CIFAR-10 Batch {}:  '.format(epoch + 1, batch_i), end='')\n",
    "            print_stats(sess, batch_features, batch_labels, cost, accuracy)\n",
    "            \n",
    "    # Save Model\n",
    "    saver = tf.train.Saver()\n",
    "    save_path = saver.save(sess, save_model_path)"
   ]
  },
  {
   "cell_type": "markdown",
   "metadata": {
    "deletable": true,
    "editable": true
   },
   "source": [
    "# Checkpoint\n",
    "The model has been saved to disk.\n",
    "## Test Model\n",
    "Test your model against the test dataset.  This will be your final accuracy. You should have an accuracy greater than 50%. If you don't, keep tweaking the model architecture and parameters."
   ]
  },
  {
   "cell_type": "code",
   "execution_count": 33,
   "metadata": {
    "collapsed": false,
    "deletable": true,
    "editable": true
   },
   "outputs": [
    {
     "name": "stdout",
     "output_type": "stream",
     "text": [
      "Testing Accuracy: 0.7146484375\n",
      "\n"
     ]
    },
    {
     "data": {
      "image/png": "[encoded data removed]",
      "text/plain": [
       "<matplotlib.figure.Figure at 0x7fd5cc7b3e10>"
      ]
     },
     "metadata": {
      "image/png": {
       "height": 319,
       "width": 355
      }
     },
     "output_type": "display_data"
    }
   ],
   "source": [
    "\"\"\"\n",
    "DON'T MODIFY ANYTHING IN THIS CELL\n",
    "\"\"\"\n",
    "%matplotlib inline\n",
    "%config InlineBackend.figure_format = 'retina'\n",
    "\n",
    "import tensorflow as tf\n",
    "import pickle\n",
    "import helper\n",
    "import random\n",
    "\n",
    "# Set batch size if not already set\n",
    "try:\n",
    "    if batch_size:\n",
    "        pass\n",
    "except NameError:\n",
    "    batch_size = 64\n",
    "\n",
    "save_model_path = './image_classification'\n",
    "n_samples = 4\n",
    "top_n_predictions = 3\n",
    "\n",
    "def test_model():\n",
    "    \"\"\"\n",
    "    Test the saved model against the test dataset\n",
    "    \"\"\"\n",
    "\n",
    "    test_features, test_labels = pickle.load(open('preprocess_training.p', mode='rb'))\n",
    "    loaded_graph = tf.Graph()\n",
    "\n",
    "    with tf.Session(graph=loaded_graph) as sess:\n",
    "        # Load model\n",
    "        loader = tf.train.import_meta_graph(save_model_path + '.meta')\n",
    "        loader.restore(sess, save_model_path)\n",
    "\n",
    "        # Get Tensors from loaded model\n",
    "        loaded_x = loaded_graph.get_tensor_by_name('x:0')\n",
    "        loaded_y = loaded_graph.get_tensor_by_name('y:0')\n",
    "        loaded_keep_prob = loaded_graph.get_tensor_by_name('keep_prob:0')\n",
    "        loaded_logits = loaded_graph.get_tensor_by_name('logits:0')\n",
    "        loaded_acc = loaded_graph.get_tensor_by_name('accuracy:0')\n",
    "        \n",
    "        # Get accuracy in batches for memory limitations\n",
    "        test_batch_acc_total = 0\n",
    "        test_batch_count = 0\n",
    "        \n",
    "        for train_feature_batch, train_label_batch in helper.batch_features_labels(test_features, test_labels, batch_size):\n",
    "            test_batch_acc_total += sess.run(\n",
    "                loaded_acc,\n",
    "                feed_dict={loaded_x: train_feature_batch, loaded_y: train_label_batch, loaded_keep_prob: 1.0})\n",
    "            test_batch_count += 1\n",
    "\n",
    "        print('Testing Accuracy: {}\\n'.format(test_batch_acc_total/test_batch_count))\n",
    "\n",
    "        # Print Random Samples\n",
    "        random_test_features, random_test_labels = tuple(zip(*random.sample(list(zip(test_features, test_labels)), n_samples)))\n",
    "        random_test_predictions = sess.run(\n",
    "            tf.nn.top_k(tf.nn.softmax(loaded_logits), top_n_predictions),\n",
    "            feed_dict={loaded_x: random_test_features, loaded_y: random_test_labels, loaded_keep_prob: 1.0})\n",
    "        helper.display_image_predictions(random_test_features, random_test_labels, random_test_predictions)\n",
    "\n",
    "\n",
    "test_model()"
   ]
  },
  {
   "cell_type": "markdown",
   "metadata": {
    "deletable": true,
    "editable": true
   },
   "source": [
    "## Why 50-70% Accuracy?\n",
    "You might be wondering why you can't get an accuracy any higher. First things first, 50% isn't bad for a simple CNN.  Pure guessing would get you 10% accuracy. However, you might notice people are getting scores [well above 70%](http://rodrigob.github.io/are_we_there_yet/build/classification_datasets_results.html#43494641522d3130).  That's because we haven't taught you all there is to know about neural networks. We still need to cover a few more techniques.\n",
    "## Submitting This Project\n",
    "When submitting this project, make sure to run all the cells before saving the notebook.  Save the notebook file as \"dlnd_image_classification.ipynb\" and save it as a HTML file under \"File\" -> \"Download as\".  Include the \"helper.py\" and \"problem_unittests.py\" files in your submission."
   ]
  }
 ],
 "metadata": {
  "kernelspec": {
   "display_name": "Python 3",
   "language": "python",
   "name": "python3"
  },
  "language_info": {
   "codemirror_mode": {
    "name": "ipython",
    "version": 3
   },
   "file_extension": ".py",
   "mimetype": "text/x-python",
   "name": "python",
   "nbconvert_exporter": "python",
   "pygments_lexer": "ipython3",
   "version": "3.5.3"
  }
 },
 "nbformat": 4,
 "nbformat_minor": 0
}
